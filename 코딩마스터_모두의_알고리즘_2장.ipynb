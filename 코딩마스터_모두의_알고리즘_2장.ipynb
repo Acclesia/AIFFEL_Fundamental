{
  "nbformat": 4,
  "nbformat_minor": 0,
  "metadata": {
    "colab": {
      "name": "코딩마스터 모두의 알고리즘 2장",
      "private_outputs": true,
      "provenance": [],
      "collapsed_sections": [],
      "authorship_tag": "ABX9TyMZSKKtf6aSOIO9hBt9eTUj",
      "include_colab_link": true
    },
    "kernelspec": {
      "name": "python3",
      "display_name": "Python 3"
    },
    "language_info": {
      "name": "python"
    }
  },
  "cells": [
    {
      "cell_type": "markdown",
      "metadata": {
        "id": "view-in-github",
        "colab_type": "text"
      },
      "source": [
        "<a href=\"https://colab.research.google.com/github/Acclesia/AIFFEL_Fundamental/blob/main/%EC%BD%94%EB%94%A9%EB%A7%88%EC%8A%A4%ED%84%B0_%EB%AA%A8%EB%91%90%EC%9D%98_%EC%95%8C%EA%B3%A0%EB%A6%AC%EC%A6%98_2%EC%9E%A5.ipynb\" target=\"_parent\"><img src=\"https://colab.research.google.com/assets/colab-badge.svg\" alt=\"Open In Colab\"/></a>"
      ]
    },
    {
      "cell_type": "markdown",
      "metadata": {
        "id": "lHtRzcH6oS4r"
      },
      "source": [
        "# 코딩마스터 모두의 알고리즘 2장\n",
        "Date: 21.04.7"
      ]
    },
    {
      "cell_type": "code",
      "metadata": {
        "id": "F8yXL2oIoREc"
      },
      "source": [
        "# 문제 4 팩토리얼 구하기 \n",
        "def fact(n):\n",
        "    f = 1\n",
        "    for i in range(1,n+1):\n",
        "        f=f*i\n",
        "    return f\n",
        "\n",
        "print(fact(1))\n",
        "print(fact(5))\n",
        "print(fact(10))"
      ],
      "execution_count": null,
      "outputs": []
    },
    {
      "cell_type": "markdown",
      "metadata": {
        "id": "02aFgOb5pTHg"
      },
      "source": [
        "## 재귀호출\n",
        "= 어떤 함수 안에서 자기 자신을 부르는것"
      ]
    },
    {
      "cell_type": "code",
      "metadata": {
        "id": "Brr-R6YcpeHn"
      },
      "source": [
        "def fact(n):\n",
        "    if n <= 1:\n",
        "        return 1\n",
        "    return n*fact(n-1)\n",
        "\n",
        "print(fact(1))\n",
        "print(fact(5))\n",
        "print(fact(10))"
      ],
      "execution_count": null,
      "outputs": []
    },
    {
      "cell_type": "code",
      "metadata": {
        "id": "KiZfDKrcp9TV"
      },
      "source": [
        "# 4-1\n",
        "def func(n):\n",
        "    if n <=1:\n",
        "        return 1\n",
        "    return n + func(n-1)\n",
        "\n",
        "print(func(3))"
      ],
      "execution_count": null,
      "outputs": []
    },
    {
      "cell_type": "code",
      "metadata": {
        "id": "FOrNWL3ItALV"
      },
      "source": [
        "#4-2 숫자 n개 중에서 최댓값 찾기....어떻게 \n",
        "#리스트? \n",
        "a=[3,43,23,34,12]\n",
        "\n",
        "def max_for(a):\n",
        "    length = len(a)\n",
        "    max=a[0]\n",
        "    for i in range(length):\n",
        "        print(max)\n",
        "        print(a[i])\n",
        "        if a[i] > max:\n",
        "            max = a[i]\n",
        "    return max\n",
        "# def max_function():\n",
        "#     return max(list)\n",
        "\n",
        "print(\"max\", max_for(a))\n"
      ],
      "execution_count": null,
      "outputs": []
    },
    {
      "cell_type": "code",
      "metadata": {
        "id": "TiVcP5-4yANL"
      },
      "source": [
        "def max(n):\n",
        "    if "
      ],
      "execution_count": null,
      "outputs": []
    },
    {
      "cell_type": "markdown",
      "metadata": {
        "id": "_WU0rqRWu4qV"
      },
      "source": [
        "## 최대공약수 구하기"
      ]
    },
    {
      "cell_type": "code",
      "metadata": {
        "id": "wwmnNSS1u11m"
      },
      "source": [
        "def gcd(a,b):\n",
        "    i = min(a,b) # 두 수 중에서 최솟값을 구한다.\n",
        "    while True:\n",
        "        if a % i ==0 and b % i ==0:\n",
        "            return i\n",
        "        i = i-1  # i를 1만큼 감소시킨다.\n",
        "print(gcd(1,5))\n"
      ],
      "execution_count": null,
      "outputs": []
    },
    {
      "cell_type": "code",
      "metadata": {
        "id": "38s9-WsCv37O"
      },
      "source": [
        "# 유클리드 알고리즘\n",
        "\n",
        "def gcd(a,b):\n",
        "    if b ==0:\n",
        "        return a\n",
        "    return gcd(b, a %b) #재귀호출 \n",
        "\n",
        "print(gcd(1,5))"
      ],
      "execution_count": null,
      "outputs": []
    },
    {
      "cell_type": "code",
      "metadata": {
        "id": "zJXRcU_twsGw"
      },
      "source": [
        "# 피보나치 수열\n",
        "# 0부터 시작해서 바로 앞의 두수를 더한 값을 다음 값으로 추가하는 방식 \n",
        "# 종료조건: n=0 결과값 n= n-2+n-1의 피보나치 수 \n",
        "\n",
        "def fibo(n):\n",
        "    if n <=1:\n",
        "        return n\n",
        "    return fibo(n-2) + fibo(n-1)\n",
        "\n",
        "print(fibo(10))"
      ],
      "execution_count": null,
      "outputs": []
    },
    {
      "cell_type": "code",
      "metadata": {
        "id": "BxMt6ZP30l4l"
      },
      "source": [
        "# 하노이의 탑 옮기기 \n",
        "def hanoi(n,from_pos, to_pos, aux_pos):\n",
        "    if n ==1:\n",
        "        print(from_pos, \"->\",to_pos)\n",
        "        return\n",
        "    hanoi(n-1,from_pos,aux_pos,to_pos):\n",
        "    print(from_pos,\"->\", to_pos)\n",
        "    hanoi(n-1,aux_pos, to_pos, from_pos)\n",
        "\n",
        "print(\"n=1\")"
      ],
      "execution_count": null,
      "outputs": []
    },
    {
      "cell_type": "code",
      "metadata": {
        "id": "AWtsClmd2Nee"
      },
      "source": [
        "import turtle as t\n",
        "\n",
        "def spiral(sp_len):\n",
        "    if sp_len <= 5:\n",
        "        return \n",
        "    t.forward(sp_len)\n",
        "    t.right(90)\n",
        "    spiral(sp_len -5)\n",
        "\n",
        "t.speed(0)\n",
        "spiral(200)\n",
        "t.hideturtle()\n",
        "t.done()"
      ],
      "execution_count": null,
      "outputs": []
    }
  ]
}