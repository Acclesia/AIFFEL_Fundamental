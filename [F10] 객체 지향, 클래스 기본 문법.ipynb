{
 "cells": [
  {
   "cell_type": "markdown",
   "metadata": {},
   "source": [
    "# 객체지향 프로그래밍"
   ]
  },
  {
   "cell_type": "markdown",
   "metadata": {},
   "source": [
    "# 목차\n",
    "- 객체란?\n",
    "1. 변수\n",
    "2. 클래스\n",
    "3. 생성자\n",
    "4. 변수 선언법\n",
    "5. 상속\n",
    "6. 응용: n면체 주사위 만들기"
   ]
  },
  {
   "cell_type": "markdown",
   "metadata": {},
   "source": [
    "# 객체란?\n",
    "- 객체란 변수에 할당될 수 있고 함수의 인자로 넘겨질 수 있는 것이다. \n",
    "- 파이썬에서는 모든것이 객체다. \n",
    "- 부울, 정수, 실수, 문자열, 딕셔너리, 함수, 모듈, 프로그램 등 다 객체다.\n",
    "- 이 객체들이 모여서 속성과 메소드가 된다."
   ]
  },
  {
   "cell_type": "markdown",
   "metadata": {},
   "source": [
    "## 객체지향 프로그래밍을 사용하는 이유?\n",
    "= 추상화(abstraction) and 캡슐화(encapsulation) !!\n",
    "\n",
    "추상화: 컴퓨터 과학에서 추상화는 복잡한 자료, 모듈, 시스템 등으로부터 핵심적인 개념 또는 기능을 간추려 내는 것을 말한다. (위키피디아)\n",
    "\n",
    "* 클래스의 각 기능을 추상적인 함수로 제공한다. 세부내용을 몰라도 함수 호출만으로 클래스 기능을 사용할 수 있다.\n",
    "\n",
    "캡슐화: 객체의 속성(data fields)과 행위(메서드, methods)를 하나로 묶는다. 객체의 속성(data fields)과 행위(메서드, methods)를 하나로 묶는다. (위키피디아)\n",
    "\n",
    "* 클래스로 묶어서(캡슐화) 제공하므로 가져다 쓰기만 하면 된다."
   ]
  },
  {
   "cell_type": "markdown",
   "metadata": {},
   "source": [
    "# 1. 객체\n",
    "\n",
    "객체의 종류- 불변객체, 가변객체\n",
    "\n",
    "객체의 특성: 속성, 메서드 \n",
    "\n",
    "* 속성 : 상태를 표현, 변수로 나타낸다\n",
    "\n",
    "- color = 'red\n",
    "\n",
    "\n",
    "* 메서드: 동작을 표현, def 키워드로 나타낸다.\n",
    "- def : 클래스 내에 정의된 함수!\n",
    "\n",
    "def driving():\n",
    "\n",
    "    pass"
   ]
  },
  {
   "cell_type": "markdown",
   "metadata": {},
   "source": [
    "## 1-1) 객체 종류"
   ]
  },
  {
   "cell_type": "markdown",
   "metadata": {},
   "source": [
    "## 가변객체 = 객체에 할당된 값을 수정할 수 있다\n",
    "\n",
    "### list, dict"
   ]
  },
  {
   "cell_type": "code",
   "execution_count": 1,
   "metadata": {},
   "outputs": [
    {
     "name": "stdout",
     "output_type": "stream",
     "text": [
      "[1, 2, 3, 4]\n",
      "[1, 222, 3, 4]\n"
     ]
    }
   ],
   "source": [
    "# 리스트랑 dict는 숫자를 바꿀때 2의 숫자를 지우고 222로 바꾸는 것\n",
    "mutable_list = [1, 2, 3, 4]\n",
    "print(mutable_list)\n",
    "\t\n",
    "mutable_list[1] = 222\n",
    "print(mutable_list)"
   ]
  },
  {
   "cell_type": "code",
   "execution_count": 2,
   "metadata": {},
   "outputs": [
    {
     "name": "stdout",
     "output_type": "stream",
     "text": [
      "(1, 2, 3, 4)\n",
      "(1, 222, 3, 4)\n"
     ]
    }
   ],
   "source": [
    "#가변객체와 불변객체의 차이 \n",
    "# 튜플은 숫자를 바꾸고 싶으면 2의 숫자를 지울 수 없고 바꾸고 싶은 튜플로 대체하는 것 \n",
    "\n",
    "immutable_tuple = (1, 2, 3, 4)\n",
    "print(immutable_tuple)\n",
    "immutable_tuple = (1, 222, 3, 4)\n",
    "print(immutable_tuple)"
   ]
  },
  {
   "cell_type": "markdown",
   "metadata": {},
   "source": [
    "## 불변객체 : 객체에 할당된 값을 수정할 수 없다.\n",
    "## 수정하고 싶다면 다른것으로 대체해야 한다!\n",
    "\n",
    "### int, float, str, bool, tuple, 문자열"
   ]
  },
  {
   "cell_type": "code",
   "execution_count": 3,
   "metadata": {},
   "outputs": [
    {
     "ename": "TypeError",
     "evalue": "'str' object does not support item assignment",
     "output_type": "error",
     "traceback": [
      "\u001b[0;31m---------------------------------------------------------------------------\u001b[0m",
      "\u001b[0;31mTypeError\u001b[0m                                 Traceback (most recent call last)",
      "\u001b[0;32m<ipython-input-3-4cec6c4532a8>\u001b[0m in \u001b[0;36m<module>\u001b[0;34m\u001b[0m\n\u001b[1;32m      1\u001b[0m \u001b[0mimmutable_string\u001b[0m \u001b[0;34m=\u001b[0m \u001b[0;34m\"Hello\"\u001b[0m\u001b[0;34m\u001b[0m\u001b[0;34m\u001b[0m\u001b[0m\n\u001b[0;32m----> 2\u001b[0;31m \u001b[0mimmutable_string\u001b[0m\u001b[0;34m[\u001b[0m\u001b[0;36m0\u001b[0m\u001b[0;34m]\u001b[0m \u001b[0;34m=\u001b[0m \u001b[0;34m\"Y\"\u001b[0m  \u001b[0;31m#문자열은 지우고 다른 글자로 수정이 안됨.\u001b[0m\u001b[0;34m\u001b[0m\u001b[0;34m\u001b[0m\u001b[0m\n\u001b[0m",
      "\u001b[0;31mTypeError\u001b[0m: 'str' object does not support item assignment"
     ]
    }
   ],
   "source": [
    "immutable_string = \"Hello\"\n",
    "immutable_string[0] = \"Y\"  #문자열은 지우고 다른 글자로 수정이 안됨. "
   ]
  },
  {
   "cell_type": "code",
   "execution_count": 4,
   "metadata": {},
   "outputs": [
    {
     "name": "stdout",
     "output_type": "stream",
     "text": [
      "Yello\n"
     ]
    }
   ],
   "source": [
    "immutable_string = \"Hello\"\n",
    "immutable_string = \"Yello\" #아에 새로운 단어로 대체해야함\n",
    "print(immutable_string)"
   ]
  },
  {
   "cell_type": "markdown",
   "metadata": {},
   "source": [
    "## 1-2) 객체 복사: 얕은 복사, 깊은 복사\n",
    "\n",
    "단순복사\n",
    "얕은 복사\n",
    "깊은 복사"
   ]
  },
  {
   "cell_type": "code",
   "execution_count": 5,
   "metadata": {},
   "outputs": [
    {
     "name": "stdout",
     "output_type": "stream",
     "text": [
      "[1, 2, 3, 4]\n",
      "[1, 2, 100, 4]\n",
      "[1, 2, 100, 4]\n"
     ]
    }
   ],
   "source": [
    "# 단순 복사 \n",
    "# 원본과 복사본은 동일한 객체로 복사본을 수정하면 원본도 수정된다 \n",
    "a = [1, 2, 3, 4] #가변객체 리스트 사용!\n",
    "b = a    \n",
    "print(b)    # [1, 2, 3, 4]\n",
    "b[2] = 100   # 리스트라서 수정 가능 \n",
    "print(b)    # [1, 2, 100, 4]\n",
    "print(a)    "
   ]
  },
  {
   "cell_type": "code",
   "execution_count": 6,
   "metadata": {},
   "outputs": [
    {
     "name": "stdout",
     "output_type": "stream",
     "text": [
      "10\n",
      "abc\n",
      "10\n"
     ]
    }
   ],
   "source": [
    "a = 10 # 정수는 불변이라서 a는 수정이 안됨!!\n",
    "b = a\n",
    "print(b)    # 10 출력\n",
    "b = \"abc\"   # 정수라서 수정 안되서 abc로 값을 대체함 \n",
    "print(b)    # 그래서 b는 abc 출력 \n",
    "print(a)    # a는 10을 출력한다 "
   ]
  },
  {
   "cell_type": "markdown",
   "metadata": {},
   "source": [
    "### 앝은 복사"
   ]
  },
  {
   "cell_type": "code",
   "execution_count": 7,
   "metadata": {},
   "outputs": [
    {
     "data": {
      "image/png": "[encoded data removed]",
      "text/plain": [
       "<IPython.core.display.Image object>"
      ]
     },
     "execution_count": 7,
     "metadata": {},
     "output_type": "execute_result"
    }
   ],
   "source": [
    "from IPython.display import Image \n",
    "\n",
    "Image(\"/home/aiffel-dj54/Pictures/shadow copy.png\")\n",
    "# 얕은 복사는 외부리스트는 따로 쓰고 내부리스트는 공유한다. "
   ]
  },
  {
   "cell_type": "code",
   "execution_count": 8,
   "metadata": {},
   "outputs": [
    {
     "name": "stdout",
     "output_type": "stream",
     "text": [
      "[1, [1, 2, 3]]\n",
      "[100, [1, 2, 3]]\n",
      "[1, [1, 2, 3]]\n"
     ]
    }
   ],
   "source": [
    "import copy\n",
    "\n",
    "a = [1, [1, 2, 3]]\n",
    "b = copy.copy(a)    # shallow copy 발생\n",
    "print(b)    # [1, [1, 2, 3]] 출력\n",
    "b[0] = 100\n",
    "print(b)    # [100, [1, 2, 3]] 출력,\n",
    "print(a)    #a는 변할 수 없는 값(숫자)라서 변경 안됨 "
   ]
  },
  {
   "cell_type": "code",
   "execution_count": 9,
   "metadata": {},
   "outputs": [
    {
     "name": "stdout",
     "output_type": "stream",
     "text": [
      "['하', ['이', '오', '차']]\n",
      "['하', '고']\n",
      "['하', ['이', '오', '차']]\n"
     ]
    }
   ],
   "source": [
    "a = [\"하\", [\"이\", \"오\", \"차\"]]\n",
    "b = copy.copy(a)    # shallow copy 발생\n",
    "print(b)    # [1, [1, 2, 3]] 출력\n",
    "b[1] = \"고\"\n",
    "print(b)    # [100, [1, 2, 3]] 출력,\n",
    "print(a) "
   ]
  },
  {
   "cell_type": "code",
   "execution_count": 10,
   "metadata": {},
   "outputs": [
    {
     "name": "stdout",
     "output_type": "stream",
     "text": [
      "[1, [1, 2, 3]]\n",
      "[100, [1, 2, 3]]\n",
      "[100, [1, 2, 3]]\n"
     ]
    }
   ],
   "source": [
    "# 얕은 복사는 외부리스트는 따로 쓰고 내부리스트는 공유한다. \n",
    "#a,b의 외부리스트 값을 수정하고 싶으면 \n",
    "#a에 수정할 값을 대체하는 값을 넣어야한다. 대체해야함!\n",
    "\n",
    "a = [1, [1, 2, 3]]\n",
    "b = copy.copy(a)    # shallow copy 발생\n",
    "print(b)    # [1, [1, 2, 3]] 출력\n",
    "b[0] = 100\n",
    "a[0] = 100  \n",
    "print(b)    # [100, [1, 2, 3]] 출력,\n",
    "print(a)   "
   ]
  },
  {
   "cell_type": "code",
   "execution_count": 11,
   "metadata": {},
   "outputs": [
    {
     "name": "stdout",
     "output_type": "stream",
     "text": [
      "[100, [1, 2, 3, 4]]\n",
      "[100, [1, 2, 3, 4]]\n"
     ]
    }
   ],
   "source": [
    "c = copy.copy(a)\n",
    "c[1].append(4)    # 리스트의 두번째 item(내부리스트)에 4를 추가\n",
    "print(c)    # [1, [1, 2, 3, 4]] 출력\n",
    "print(a)    # [1, [1, 2, 3, 4]] 출력, \n",
    "\n",
    "# a가 c와 똑같이 수정된 이유는 둘은 같은 내부 리스트를 같고 있다."
   ]
  },
  {
   "cell_type": "markdown",
   "metadata": {},
   "source": [
    "### 깊은 복사"
   ]
  },
  {
   "cell_type": "markdown",
   "metadata": {},
   "source": [
    "깊은 복사는 내부 객체도 변경 가능하다.\n",
    "깊은 복사는 a를 복사해서 b에 새로운 객체(내부객체)를 만드는 것"
   ]
  },
  {
   "cell_type": "code",
   "execution_count": 12,
   "metadata": {},
   "outputs": [
    {
     "data": {
      "image/png": "[encoded data removed]",
      "text/plain": [
       "<IPython.core.display.Image object>"
      ]
     },
     "execution_count": 12,
     "metadata": {},
     "output_type": "execute_result"
    }
   ],
   "source": [
    "Image(\"/home/aiffel-dj54/Pictures/deep.png\")"
   ]
  },
  {
   "cell_type": "code",
   "execution_count": 13,
   "metadata": {},
   "outputs": [
    {
     "name": "stdout",
     "output_type": "stream",
     "text": [
      "[1, [1, 2, 3]]\n",
      "[100, [1, 2, 3, 4]]\n",
      "[1, [1, 2, 3]]\n"
     ]
    }
   ],
   "source": [
    "a = [1, [1, 2, 3]]\n",
    "b = copy.deepcopy(a)    # deep copy 실행\n",
    "print(b)    # [1, [1, 2, 3]] 출력\n",
    "b[0] = 100\n",
    "b[1].append(4) #a와 내부 객체가 다르기 때문에 b에 추가해도 a에 영향없다.\n",
    "print(b)    \n",
    "print(a)   "
   ]
  },
  {
   "cell_type": "markdown",
   "metadata": {},
   "source": [
    "## 정리\n",
    "단순복제는 완전히 동일한 객체 - 복사본 바꾸면 원본도 바뀜\n",
    "\n",
    "얕은복사(shallow copy)는 외부 객체만 복사, 내부 객체는 동일 - 외부만 변경 가능(원본 안바뀜)\n",
    "\n",
    "깊은복사(deep copy)는 외부객체 복사 + 내부 객체도 복사 - 둘다 변경 가능"
   ]
  },
  {
   "cell_type": "markdown",
   "metadata": {},
   "source": [
    "## 1-3) 변수\n",
    "변수란 객체에 붙는 이름이다. 객체를 가르키는 것!"
   ]
  },
  {
   "cell_type": "code",
   "execution_count": 14,
   "metadata": {},
   "outputs": [
    {
     "data": {
      "text/plain": [
       "2"
      ]
     },
     "execution_count": 14,
     "metadata": {},
     "output_type": "execute_result"
    }
   ],
   "source": [
    "# mycar : 변수(객체)\n",
    "# 2     : 변수값(숫자, 객체)\n",
    "\n",
    "mycar = 2     # mycar라는 변수에 2 라는 정수타입의 객체 생성\n",
    "mycar        #mycar에 2 라는 객체를 연결(참조)한다."
   ]
  },
  {
   "cell_type": "markdown",
   "metadata": {},
   "source": [
    "# 2. 클래스\n",
    "클래스란?\n",
    "반복되는 불필요한 코드를 최소화하고 현실의 사물을 컴퓨터에서 쉽게 표현하도록 하는 프로그래밍 기술\n",
    "\n",
    "클래스로 현실 사물의 특성을 컴퓨터에서 표현할 수 있다.\n",
    "클래스로 사물의 특성을 정의한 뒤에 이 특성이 컴퓨터 메모리에 올라가서 동작할 수 있도록 하는 것이 인스턴스화!\n",
    "\n",
    "예) 자동차의 특성을 정의한 후(클래스) 이 특성이 프로그래밍내에서 동작할 수 있도록 한다.(인스턴스화) \n",
    "\n",
    "구성\n",
    "* 변수\n",
    "* 함수(메소드)"
   ]
  },
  {
   "cell_type": "markdown",
   "metadata": {},
   "source": [
    "## 2-1) 객체 인스턴스화\n",
    "인스턴스: 클래스로 정의한 객체(사물)를 프로그래밍 상에서 이용할 수 있도록 만든 변수(클래스를 할당한 변수)"
   ]
  },
  {
   "cell_type": "code",
   "execution_count": 20,
   "metadata": {},
   "outputs": [],
   "source": [
    "# mycar라는 변수에 Car() 라는 객체(클래스)를 할당한다. \n",
    "# mycar = 인스턴스 -클래스를 할당한 변수\n",
    "\n",
    "mycar = Car() \n",
    "mycar2 = Car()"
   ]
  },
  {
   "cell_type": "markdown",
   "metadata": {},
   "source": [
    "## 2-2) 클래스의 변수(속성)와 메소드 사용"
   ]
  },
  {
   "cell_type": "markdown",
   "metadata": {},
   "source": [
    "### 변수(속성) 사용"
   ]
  },
  {
   "cell_type": "code",
   "execution_count": 19,
   "metadata": {},
   "outputs": [],
   "source": [
    "mycar = Car()\n",
    "print(mycar.color) # 인스턴스 객체. 속성명"
   ]
  },
  {
   "cell_type": "markdown",
   "metadata": {},
   "source": [
    "### 메소드 \n",
    "#함수호출하는 것과 같음\n",
    "\n",
    "#인스턴스 객체. 메소드명\n",
    "\n",
    "#호출시 () - 인자를 넣지 않는다 --> mycar.drive()\n",
    "\n",
    "   \n",
    "하지만! 클래스 내부는 인자 넣는다! --> Car.drive(mycar) 로 동작\n",
    "\n",
    "mycar 가 동작을 수행할 객체가 된다. 즉, 인자가 자기 자신(self)이다\n",
    "\n",
    "그래서 def 정의할때 항상 self를 사용함"
   ]
  },
  {
   "cell_type": "code",
   "execution_count": 21,
   "metadata": {},
   "outputs": [],
   "source": [
    "class Car:\n",
    "\n",
    "    def drive(self):\n",
    "        print(\"I'm driving\")"
   ]
  },
  {
   "cell_type": "code",
   "execution_count": 22,
   "metadata": {},
   "outputs": [],
   "source": [
    "# 접두사 self\n",
    "# 메소드 내에 인스턴스 변수 정의 \n",
    "# 인스턴스의 속성으로 사용하고 싶은 변수는 접두사 self를 쓴다. \n",
    "\n",
    "#self.a : 인스턴스 속성으로 사용할 변수\n",
    "# float(a) * 10 : 인스턴스의 속성 / 클래스의 속성 아님! 인스턴스의 속성\n",
    "\n",
    "class Test2:\n",
    "    def run1( a):\n",
    "        self.a = float(a) * 10 \n",
    "        print(self.a)"
   ]
  },
  {
   "cell_type": "markdown",
   "metadata": {},
   "source": [
    "# 3. 생성자 __init__"
   ]
  },
  {
   "cell_type": "markdown",
   "metadata": {},
   "source": [
    "* 생성자란 객체에 초깃값을 설정하는 함수 \n",
    "* 객체가 만들어질때 자동으로 호출된다.\n",
    "예) 삼각김밥을 만들때\n",
    "\n",
    "삼감김밥만드는 틀(\"클래스\"), 재료(변수, 함수)를 넣어 삼각김밥(객체)를 만든다. \n",
    "\n",
    "생성자는 여러 종류의 삼각김밥을 만들때 기본적으로 공통인 재료를 세팅해주는 것(김, 밥 등)\n"
   ]
  },
  {
   "cell_type": "code",
   "execution_count": 23,
   "metadata": {},
   "outputs": [
    {
     "name": "stdout",
     "output_type": "stream",
     "text": [
      "생성자 호출\n"
     ]
    }
   ],
   "source": [
    "class Car:\n",
    "    def __init__(self):\n",
    "        print(\"생성자 호출\")\n",
    "\n",
    "a = Car() #객체(a 인스턴스)를 만들때 자동으로 car 클래스안에 있는 생성자가 실행됨 "
   ]
  },
  {
   "cell_type": "code",
   "execution_count": 54,
   "metadata": {},
   "outputs": [],
   "source": [
    "class  Bycicle:\n",
    "    color = 'green'\n",
    "    type = '2 wheels'\n",
    "\n",
    "    def drive(self):\n",
    "        print(\"can we riding?\")\n",
    "\n",
    "\n",
    "class  Bycicle2:\n",
    "    def __init__(self, color, type): \n",
    "        self.color = color\n",
    "        self.type = type\n",
    "        print(\"객체의 초깃값\")\n",
    "\n",
    "    def drive(self):\n",
    "        print(\"can we riding?\")"
   ]
  },
  {
   "cell_type": "code",
   "execution_count": 56,
   "metadata": {},
   "outputs": [
    {
     "name": "stdout",
     "output_type": "stream",
     "text": [
      "객체의 초깃값\n"
     ]
    }
   ],
   "source": [
    "#인스턴스 객체 선언\n",
    "instence_bycicle= Bycicle()\n",
    "instence_bycicle2= Bycicle2('red','4 wheels') #red, 4 wheels가 bycicle2의 초깃값(기본세팅)값이다. "
   ]
  },
  {
   "cell_type": "code",
   "execution_count": 57,
   "metadata": {},
   "outputs": [
    {
     "data": {
      "text/plain": [
       "'green'"
      ]
     },
     "execution_count": 57,
     "metadata": {},
     "output_type": "execute_result"
    }
   ],
   "source": [
    "instence_bycicle.color "
   ]
  },
  {
   "cell_type": "code",
   "execution_count": 58,
   "metadata": {},
   "outputs": [
    {
     "data": {
      "text/plain": [
       "'red'"
      ]
     },
     "execution_count": 58,
     "metadata": {},
     "output_type": "execute_result"
    }
   ],
   "source": [
    "instence_bycicle2.color"
   ]
  },
  {
   "cell_type": "code",
   "execution_count": 59,
   "metadata": {},
   "outputs": [
    {
     "data": {
      "text/plain": [
       "'2 wheels'"
      ]
     },
     "execution_count": 59,
     "metadata": {},
     "output_type": "execute_result"
    }
   ],
   "source": [
    "instence_bycicle. type"
   ]
  },
  {
   "cell_type": "code",
   "execution_count": 60,
   "metadata": {},
   "outputs": [
    {
     "data": {
      "text/plain": [
       "'4 wheels'"
      ]
     },
     "execution_count": 60,
     "metadata": {},
     "output_type": "execute_result"
    }
   ],
   "source": [
    "instence_bycicle2. type"
   ]
  },
  {
   "cell_type": "markdown",
   "metadata": {},
   "source": [
    "# 4. 클래스 내 변수 선언법\n",
    "1. 클래스 변수 선언법  : 변수명 = 변수 값\n",
    "2. 인스턴스 변수 선언법 : __init__ 메소드 안에 self. 설정"
   ]
  },
  {
   "cell_type": "code",
   "execution_count": 62,
   "metadata": {},
   "outputs": [],
   "source": [
    "class Bycicle:\n",
    "    Manufacture = \"Korea\" # 클래스 변수 \n",
    "\n",
    "    def __init__(self, color, type='2 wheels'):\n",
    "        self.color = color       #인스턴스 변수 \n",
    "        self.type = type"
   ]
  },
  {
   "cell_type": "code",
   "execution_count": 63,
   "metadata": {},
   "outputs": [],
   "source": [
    "a = Bycicle"
   ]
  },
  {
   "cell_type": "markdown",
   "metadata": {},
   "source": [
    "## 클래스 변수 vs 인스턴스 변수 차이점\n",
    "1.  클래스 변수 (manufacture)\n",
    "메모리 하나를 할당해서 지정해준다.\n",
    "\n",
    "2. 인스턴스 변수 \n",
    "\n",
    "객체가 인스턴스화 될때마다 = Car클래스가 car2로 새로운 이름을 가질때 새로운 값을 가질 수 있다. \n",
    "\n",
    "차 종류 = newCar()처럼 메모리가 객체에 의해 실체화 되는 것이다.\n",
    "\n",
    "\n",
    "* car1, car2는 같은 값을 가질 수 없다. \n",
    "* init 안에 있는 color, category는 다른 속성이다. \n",
    "\n",
    "* car 1 - color = red, category = sports car\n",
    "* car 2 - color = white, category = sedan"
   ]
  },
  {
   "cell_type": "markdown",
   "metadata": {},
   "source": [
    "# 5. 상속"
   ]
  },
  {
   "cell_type": "markdown",
   "metadata": {},
   "source": [
    "기존 클래스를 변경하지 않고 기능을 추가하거나 기존 기능을 변경할때 사용\n",
    "\n",
    "상속 사용법\n",
    "- 메소드 추가하기\n",
    "- 메소드 재정의하기 = 오버라이딩\n",
    "- 부모 메소드 호출(super()\n",
    "\n",
    "* 메소드 추가는 자식 클래스에만 있는 메소드를 만드는 것\n",
    "* 메소드 재정의는 부모클래스에 있는 메소드를 수정하는 것(부모 클래스와 메소드 이름이 같다.)\n",
    "\n",
    "\n",
    "* super() 부모 메서드 속성 변경- 자식메서드에도 변경됨\n",
    "* 상속받은 모든 자식클래스의 속성값을 수정하고 싶을때 사용\n",
    "* 오버라이드하면 다 찾아서 초기화해야함\n"
   ]
  },
  {
   "cell_type": "code",
   "execution_count": 68,
   "metadata": {},
   "outputs": [],
   "source": [
    "class Bycicle:\n",
    "    Manufacture = \"India\"\n",
    "\n",
    "    def __init__(self, color='red', type='two_wheels'):\n",
    "        self.color = color\n",
    "        self.type = type\n",
    "\n",
    "    def drive(self):\n",
    "        print(\"can we riding?\")\n",
    "\n",
    "class Bycicle2(Bycicle): #Bycicle2 이라는 클래스에 Bycicle 클래스의 기능을 물려받는다.\n",
    "    pass\n"
   ]
  },
  {
   "cell_type": "code",
   "execution_count": 69,
   "metadata": {},
   "outputs": [
    {
     "data": {
      "text/plain": [
       "'Porsche'"
      ]
     },
     "execution_count": 69,
     "metadata": {},
     "output_type": "execute_result"
    }
   ],
   "source": [
    "class Bycicle2(Bycicle):\n",
    "    maker = 'Porsche' #기존의 기능은 유지하고 새로운 속성을 bycicle클래스에 추가한다.\n",
    "\n",
    "bycicle= Bycicle2()\n",
    "bycicle.maker"
   ]
  },
  {
   "cell_type": "code",
   "execution_count": 70,
   "metadata": {},
   "outputs": [
    {
     "name": "stdout",
     "output_type": "stream",
     "text": [
      "can we riding?\n"
     ]
    }
   ],
   "source": [
    "class Bycicle2(Bycicle):\n",
    "    maker = 'Porsche' #기존의 기능은 유지하고 새로운 속성을 bycicle클래스에 추가한다.\n",
    "\n",
    "bycicle= Bycicle2() \n",
    "bycicle.drive()"
   ]
  },
  {
   "cell_type": "markdown",
   "metadata": {},
   "source": [
    "## 상속 사용법 \n",
    "참고:https://nirsa.tistory.com/115"
   ]
  },
  {
   "cell_type": "markdown",
   "metadata": {},
   "source": [
    "### 메소드 추가(add) and 메소드 재정의 (override) \n",
    "오버라이드는 부모클래스 메소드의 이름을 그대로 가져와서 부모클래스 메소드를 변경한다.\n",
    "\n",
    "이는 부모클래스 메소드의 이름만 빌려온다고 생각하면 되고 자식클래스에서 변경한 메소드는 부모클래스에 적용되지 않는다."
   ]
  },
  {
   "cell_type": "code",
   "execution_count": 36,
   "metadata": {},
   "outputs": [],
   "source": [
    "class Bycicle:\n",
    "    Manufacture = \"India\"\n",
    "\n",
    "    def __init__(self, color='red', type='two_wheels'):\n",
    "        self.color = color\n",
    "        self.type = type\n",
    "\n",
    "    def drive(self):\n",
    "        print(\"can we riding?\")"
   ]
  },
  {
   "cell_type": "code",
   "execution_count": 73,
   "metadata": {},
   "outputs": [],
   "source": [
    "class Bycicle2(Bycicle):\n",
    "    maker = 'Porsche' #자식클래스의 새로운 속성 추가 \n",
    "    def speed(self): #새로운 메소드 추가 \n",
    "        print(\"it's fast!\")\n",
    "\n",
    "    def drive(self): #부모클래스의 메소드 이름을 가져와서 새로운 값으로 덮어씌우기\n",
    "        print(\"i love riding\")"
   ]
  },
  {
   "cell_type": "code",
   "execution_count": 75,
   "metadata": {},
   "outputs": [
    {
     "name": "stdout",
     "output_type": "stream",
     "text": [
      "i love riding\n",
      "it's fast!\n"
     ]
    }
   ],
   "source": [
    "bycicle= Bycicle2() \n",
    "bycicle.drive()\n",
    "bycicle.color\n",
    "bycicle.speed()"
   ]
  },
  {
   "cell_type": "markdown",
   "metadata": {},
   "source": [
    "## super()\n",
    "\n",
    "super는 init으로 부모클래스 초깃값의 영향을 받는다. 일단 init으로 부모클래스 초깃값을 받고 자식클래스 속성을 추가한다. \n",
    "\n",
    "이때 추가한 자식클래스 속성은 부모클래스에 적용되지 않는다. 하지만 부모클래스의 값이 바뀌면 자식클래스에 영향을 준다"
   ]
  },
  {
   "cell_type": "code",
   "execution_count": 76,
   "metadata": {},
   "outputs": [],
   "source": [
    "# 부모메소드 호출하기 super()\n",
    "\n",
    "class Bycicle:\n",
    "    Manufacture = \"India\"\n",
    "\n",
    "    def __init__(self, color='red', type='two_wheels'):\n",
    "        self.color = color\n",
    "        self.type = type\n",
    "\n",
    "    def drive(self):\n",
    "        print(\"can we riding?\")\n",
    "        \n",
    "class Bycicle2(Bycicle):\n",
    "    def __init__(self, color,type, maker):\n",
    "        super().__init__(color, type) # 부모클래스 속성유지(super)\n",
    "        self.maker = maker #자식클래스에 새로운 속성 추가(add)\n",
    "         "
   ]
  },
  {
   "cell_type": "code",
   "execution_count": 77,
   "metadata": {},
   "outputs": [
    {
     "name": "stdout",
     "output_type": "stream",
     "text": [
      "four_wheels\n"
     ]
    }
   ],
   "source": [
    "new = Bycicle2('red','four_wheels', 'saake')\n",
    "print(new.type)"
   ]
  },
  {
   "cell_type": "code",
   "execution_count": null,
   "metadata": {},
   "outputs": [],
   "source": [
    "class NewCar(Car):\n",
    "    def __init__(self):\n",
    "        print('부모클래스 __init__')\n",
    "        self.hi = \"부모클래스의 속성\"\n",
    "        \n",
    "class BabyCar(NewCar):\n",
    "    def __init__(self):\n",
    "        print('자식클래스__init__')\n",
    "        super().__init__() #부모클래스의 init 메서드 호출\n",
    "        self.wow = '자식클래스의 속성'\n",
    "        \n",
    "a = BabyCar()\n",
    "print(a.hi)\n",
    "print(a.wow)"
   ]
  },
  {
   "cell_type": "markdown",
   "metadata": {},
   "source": [
    "결과 설명\n",
    "\n",
    "* babycar 클래스를 a 인스턴스에 할당하고 호출한다. \n",
    "* baby car에 init(초깃값)이 실행된다 = 자식클래스 init\n",
    "* super() 함수를 통해 부모클래스 init이 실행된다 = 부모클래스 init\n",
    "* print(a.hi) = 부모클래스 속성이 출력된다.\n",
    "* print(a.wow)= 자식클래스 속성이 출력된다."
   ]
  },
  {
   "cell_type": "markdown",
   "metadata": {},
   "source": [
    "### 정리\n",
    "\n",
    "* 자식 클래스에서 값이 변해도 부모클래스에 영향 주지 않음\n",
    "\n",
    "메소드 추가: 부모클래스에 없는 새로운 메소드를 자식클래스에 추가하는 것 \n",
    "\n",
    "메소드 오버라이드 : 부모클래스에 있는 메소드의 이름을 가져와서 다시 정의하는 것\n",
    "\n",
    "메소드 호출 super(): super는 init으로 부모클래스 초깃값의 영향을 받는다. 일단 init으로 부모클래스 초깃값을 받고 자식클래스 속성을 추가한다.\n",
    "\n",
    "세 과정은 함수안에서 동시에 사용될 수 있다. "
   ]
  },
  {
   "cell_type": "markdown",
   "metadata": {},
   "source": [
    "## 재귀함수와 중첩함수 \n",
    "\n",
    "중첩함수 : 함수 내에서 정의한 또 다른 함수며 부모함수의 변수를 읽어올 수 있다. 단, 속한 함수에서만 사용할 수 있다. \n",
    "\n",
    "재귀함수 : 함수내에서 자기 자신을 호출하는 함수(팩토리얼, 피보나치 수열에 사용)\n",
    "\n",
    "참고:https://ihp001.tistory.com/93"
   ]
  },
  {
   "cell_type": "code",
   "execution_count": null,
   "metadata": {},
   "outputs": [],
   "source": [
    "#재귀함수 #무한루프 #\n",
    "def recursive(num):\n",
    "         print(num)\n",
    "         num += 1\n",
    "        recursive(num)  # 자기 자신을 호출하며 변수 num값을 출력한다.\n",
    "\n",
    "recursive(10)"
   ]
  },
  {
   "cell_type": "code",
   "execution_count": null,
   "metadata": {},
   "outputs": [],
   "source": [
    "# 중첩함수\n",
    "def nested function(t:str): #부모함수\n",
    "    test: str = t\n",
    "        \n",
    "        def inner_funtion(): #함수내에 또 다른 함수 \n",
    "            print(text)      #부모함수의 변수인 text 사용해 그 값을 출력할 수 있다."
   ]
  }
 ],
 "metadata": {
  "kernelspec": {
   "display_name": "aiffel",
   "language": "python",
   "name": "aiffel"
  },
  "language_info": {
   "codemirror_mode": {
    "name": "ipython",
    "version": 3
   },
   "file_extension": ".py",
   "mimetype": "text/x-python",
   "name": "python",
   "nbconvert_exporter": "python",
   "pygments_lexer": "ipython3",
   "version": "3.7.9"
  }
 },
 "nbformat": 4,
 "nbformat_minor": 4
}
