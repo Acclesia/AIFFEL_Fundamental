{
  "nbformat": 4,
  "nbformat_minor": 0,
  "metadata": {
    "colab": {
      "name": "코딩마스터 모두의 알고리즘 3장",
      "private_outputs": true,
      "provenance": [],
      "collapsed_sections": [],
      "authorship_tag": "ABX9TyOEK1jXZhahuEdyd1kDYHtG",
      "include_colab_link": true
    },
    "kernelspec": {
      "name": "python3",
      "display_name": "Python 3"
    },
    "language_info": {
      "name": "python"
    }
  },
  "cells": [
    {
      "cell_type": "markdown",
      "metadata": {
        "id": "view-in-github",
        "colab_type": "text"
      },
      "source": [
        "<a href=\"https://colab.research.google.com/github/Acclesia/AIFFEL_Fundamental/blob/main/%EC%BD%94%EB%94%A9%EB%A7%88%EC%8A%A4%ED%84%B0_%EB%AA%A8%EB%91%90%EC%9D%98_%EC%95%8C%EA%B3%A0%EB%A6%AC%EC%A6%98_3%EC%9E%A5.ipynb\" target=\"_parent\"><img src=\"https://colab.research.google.com/assets/colab-badge.svg\" alt=\"Open In Colab\"/></a>"
      ]
    },
    {
      "cell_type": "markdown",
      "metadata": {
        "id": "AMyTtptugwph"
      },
      "source": [
        "# 코딩마스터 모두의 알고리즘 3장\n",
        "Date: 21.04.17\n",
        "\n",
        "왜 정렬을 배워하는가? \n",
        "https://han-py.tistory.com/39\n",
        "\n",
        "각 정렬별 속도 비교\n",
        "https://www.toptal.com/developers/sorting-algorithms\n",
        "\n",
        "7장 순차탐색\n",
        "\n",
        "8장 선택정렬\n",
        "\n",
        "9장 삽입정렬"
      ]
    },
    {
      "cell_type": "markdown",
      "metadata": {
        "id": "YmAEuArYxECf"
      },
      "source": [
        "## 7장 순차탐색"
      ]
    },
    {
      "cell_type": "code",
      "metadata": {
        "id": "FRS8KAeQgv1z"
      },
      "source": [
        "# 리스트에서 특정 숫자의 위치 찾기\n",
        "\n",
        "# 입력: 리스트 a, 찾는 값 x\n",
        "\n",
        "# 출력: 찾으면 그 값의 위치, 찾지 못하면 -1\n",
        "\n",
        "\n",
        "def search_list(a,x):\n",
        "    n = len(a)\n",
        "    for i in range(0,n):\n",
        "        if x ==a[i]:\n",
        "            return i \n",
        "    return -1\n",
        "\n",
        "v = [17, 92, 18, 33, 58, 7, 33, 42]\n",
        "\n",
        "print(search_list(v, 18))   # 2(순서상 세 번째지만, 위치 번호는 2)\n",
        "\n",
        "print(search_list(v, 33))   # 3(33은 리스트에 두 번 나오지만 처음 나온 위치만 출력)\n",
        "\n",
        "print(search_list(v, 900))  # -1(900은 리스트에 없음)"
      ],
      "execution_count": null,
      "outputs": []
    },
    {
      "cell_type": "markdown",
      "metadata": {
        "id": "_7FIyKdEz_5p"
      },
      "source": [
        "7-1 프로그램 7-1은 리스트에 찾는 값이 여러 개 있더라도 첫 번째 위치만 결과로 돌려줍니다. 찾는 값이 나오는 모든 위치를 리스트로 돌려주는 탐색 알고리즘을 만들어 보세요. 찾는 값이 리스트에 없다면 빈 리스트인 [ ]를 돌려줍니다."
      ]
    },
    {
      "cell_type": "code",
      "metadata": {
        "id": "eZG4WbkQxlF9"
      },
      "source": [
        "def search_list(a,x):\n",
        "    n = len(a)\n",
        "    for i in range(0,n):\n",
        "        if x ==a[i]:\n",
        "            return i \n",
        "    \n",
        "\n",
        "v = [17, 92, 18, 33, 58, 7, 33, 42]\n",
        "\n",
        "print(search_list(v, 18))   # 2(순서상 세 번째지만, 위치 번호는 2)\n",
        "\n",
        "print(search_list(v, 33))   # 3(33은 리스트에 두 번 나오지만 처음 나온 위치만 출력)\n",
        "\n",
        "print(search_list(v, 900))  # -1(900은 리스트에 없음)"
      ],
      "execution_count": null,
      "outputs": []
    },
    {
      "cell_type": "code",
      "metadata": {
        "id": "FUKLf3es3oNj"
      },
      "source": [
        "\n",
        "def search(a, x): \n",
        "    result = [] \n",
        "    n = len(a) \n",
        "    for i in range(n): \n",
        "        if x == a[i]: \n",
        "            result.append(i) \n",
        "    return result \n",
        "    \n",
        "\n",
        "a = [17, 92, 18, 33, 58, 5, 33, 42, 123, 123, 123 ,123]\n",
        "print(search(a, 33))"
      ],
      "execution_count": null,
      "outputs": []
    },
    {
      "cell_type": "markdown",
      "metadata": {
        "id": "YmwUulJn1cAF"
      },
      "source": [
        "7-3 다음과 같이 학생 번호와 이름이 리스트로 주어졌을 때 학생 번호를 입력하면 학생 번호에 해당하는 이름을 순차 탐색으로 찾아 돌려주는 함수를 만들어 보세요. 해당하는 학생 번호가 없으면 물음표(?)를 돌려줍니다. 참고로 학생 번호가 39번이면 “Justin”, 14번이면 “John”을 돌려줍니다."
      ]
    },
    {
      "cell_type": "code",
      "metadata": {
        "id": "rGJLoaSM28hb"
      },
      "source": [
        "stu_no = [39, 14, 67, 105]\n",
        "\n",
        "stu_name = [\"Justin\", \"John\", \"Mike\", \"Summer\"]"
      ],
      "execution_count": null,
      "outputs": []
    },
    {
      "cell_type": "code",
      "metadata": {
        "id": "jpyQAXd41bnx"
      },
      "source": [
        "# 일단 이름과 학생번호가 매칭되야한다\n",
        "\n",
        "student = {}\n",
        "for i in range(len(stu_no)):\n",
        "    student[stu_name[i]]=stu_no[i]\n",
        "print(student)"
      ],
      "execution_count": null,
      "outputs": []
    },
    {
      "cell_type": "code",
      "metadata": {
        "id": "mbKbAp7ODMOA"
      },
      "source": [
        "# 문제가 있던 함수 39=justin은 나오는데 14 = john은 안나온다. \n",
        "#왜일까?\n",
        "\n",
        "for k,v in list(student.items()):\n",
        "    # if num==v:\n",
        "    #     return k\n",
        "    # else:\n",
        "    #     return \"?\""
      ],
      "execution_count": null,
      "outputs": []
    },
    {
      "cell_type": "code",
      "metadata": {
        "id": "PcTwtLAL5-wd"
      },
      "source": [
        "# 해결: for문은 해당 리스트 값을 끝까지 반복하고 없으면 for문을 나와서 정해진 값을 리턴하는 것\n",
        "# dict.items()메소드는 개별 요소가 사전 값의 키로 구성된 튜플 인 목록을 반환합니다.\n",
        "# 현재 items만 하면 리스트가 아니라서 list로 만들어준다.\n",
        "\n",
        "\n",
        "def serarch_name(num):\n",
        "    for k,v in list(student.items()):\n",
        "        print(k,v)\n",
        "        if num==v:\n",
        "            return k #for문이 반복해야하는데 else가 안에 있어서 반복이 안되고 값이 걸린것..(?)\n",
        "    return \"?\""
      ],
      "execution_count": null,
      "outputs": []
    },
    {
      "cell_type": "code",
      "metadata": {
        "id": "cC927RL4CfpX"
      },
      "source": [
        "student.items()"
      ],
      "execution_count": null,
      "outputs": []
    },
    {
      "cell_type": "code",
      "metadata": {
        "id": "HoxOlRhP6wmh"
      },
      "source": [
        "print(serarch_name(39))"
      ],
      "execution_count": null,
      "outputs": []
    },
    {
      "cell_type": "code",
      "metadata": {
        "id": "VpCECf647L-D"
      },
      "source": [
        "print(serarch_name(67))#뭔가 문제가 있다."
      ],
      "execution_count": null,
      "outputs": []
    },
    {
      "cell_type": "code",
      "metadata": {
        "id": "MqXky5S27Y2j"
      },
      "source": [
        "def find_name(stu_no, stu_name, num): \n",
        "    stu_dict = dict(zip(stu_no, stu_name)) \n",
        "    if num in stu_dict.keys(): \n",
        "        return stu_dict[num] \n",
        "    else: return '?' \n",
        "\n",
        "\n",
        "stu_no = [39, 14, 67, 105] \n",
        "stu_name = ['justin', 'john', 'mike', 'summer'] \n",
        "find_name(stu_no, stu_name, 39)"
      ],
      "execution_count": null,
      "outputs": []
    },
    {
      "cell_type": "code",
      "metadata": {
        "id": "Mi3H4ZnK7oyC"
      },
      "source": [
        "find_name(stu_no, stu_name, 14)"
      ],
      "execution_count": null,
      "outputs": []
    },
    {
      "cell_type": "code",
      "metadata": {
        "id": "_rgpMHxD72cz"
      },
      "source": [
        "find_name(stu_no, stu_name, 50)"
      ],
      "execution_count": null,
      "outputs": []
    },
    {
      "cell_type": "markdown",
      "metadata": {
        "id": "XeKZn8ywBBMT"
      },
      "source": [
        "## 8장 선택정렬\n",
        "\n"
      ]
    },
    {
      "cell_type": "code",
      "metadata": {
        "id": "cEbzWO-a7L2r"
      },
      "source": [
        "# 쉽게 설명한 선택 정렬\n",
        "\n",
        "# 입력: 리스트 a\n",
        "\n",
        "# 출력: 정렬된 새 리스트\n",
        "\n",
        "# 주어진 리스트에서 최솟값의 위치를 돌려주는 함수\n",
        "\n",
        " \n",
        "def find_min_idx(a):\n",
        "\n",
        "    n = len(a)\n",
        "\n",
        "    min_idx = 0\n",
        "\n",
        "    for i in range(1, n):\n",
        "\n",
        "        if a[i] < a[min_idx]:\n",
        "\n",
        "            min_idx = i\n",
        "\n",
        "    return min_idx\n",
        "\n",
        " \n",
        "\n",
        "def sel_sort(a):\n",
        "\n",
        "    result = []  # 새 리스트를 만들어 정렬된 값을 저장\n",
        "\n",
        "    while a:     # 주어진 리스트에 값이 남아 있는 동안 계속\n",
        "\n",
        "        min_idx = find_min_idx(a)  # 리스트에 남아 있는 값 중 최솟값의 위치\n",
        "\n",
        "        value = a.pop(min_idx)     # 찾은 최솟값을 빼내어 value에 저장\n",
        "\n",
        "        result.append(value)       # value를 결과 리스트 끝에 추가\n",
        "\n",
        "    return result\n",
        "\n",
        " \n",
        "\n",
        "d = [2, 4, 5, 1, 3]\n",
        "\n",
        "print(sel_sort(d))\n",
        "print(find_min_idx(d))"
      ],
      "execution_count": null,
      "outputs": []
    },
    {
      "cell_type": "code",
      "metadata": {
        "id": "rLLTZVWOCKZS"
      },
      "source": [
        "def sel_sort(a):\n",
        "    n  = len(a) #값의 길이\n",
        "    for i in range(0,n-1): #n-2길이까지 반복해서 최저 값을 찾는다. \n",
        "        min_idx=i \n",
        "        for j in range(i+1,n): # 최솟값에 1을 왜더하지? 한개씩 순차적으로 지나면서 찾는다는 의미?\n",
        "        #그래서 그 값  J번이 최솟값보다 작으면 j를 최솟값으로 한다. \n",
        "        # 최솟값, 해당값이 나오도록 \n",
        "            if a[j]<a[min_idx]:\n",
        "                min_idx=j\n",
        "        a[i],a[min_idx] = a[min_idx],a[i]\n",
        "\n",
        "d = [2, 4, 5, 1, 3]\n",
        "\n",
        "sel_sort(d)\n",
        "\n",
        "print(d)"
      ],
      "execution_count": null,
      "outputs": []
    },
    {
      "cell_type": "markdown",
      "metadata": {
        "id": "fyE0ykMVFB5j"
      },
      "source": [
        "8-1 일반적인 선택 정렬 알고리즘을 사용해서 리스트 [2, 4, 5, 1, 3]을 정렬하는 과정을 적어 보세요.\n",
        "\n",
        " \n",
        "\n",
        "8-2 프로그램 8-1과 8-2의 정렬 알고리즘은 숫자를 작은 수에서 큰 수 순서로 나열하는 오름차순 정렬이었습니다. 이 알고리즘을 큰 수에서 작은 수 순서로 나열하는 내림차순 정렬로 바꾸려면 프로그램의 어느 부분을 바꿔야 할까요?\n",
        "\n",
        " \n",
        "\n",
        "TIP\n",
        "\n",
        "오름차순과 내림차순 정렬 예\n",
        "\n",
        "• 오름차순 정렬의 예: 가나다순, 쇼핑몰에서 낮은 가격순으로 보기\n",
        "\n",
        "• 내림차순 정렬의 예: 시험 점수로 등수 구하기, 최신 뉴스부터 보기"
      ]
    },
    {
      "cell_type": "code",
      "metadata": {
        "id": "RrE1ucJaEdW5"
      },
      "source": [
        "def sel_sort(a):\n",
        "    n  = len(a)\n",
        "    for i in range(0,n-1):\n",
        "        max_idx=i\n",
        "        for j in range(i+1,n):\n",
        "            if a[j]>a[max_idx]: #이부분을 바꾼다.\n",
        "                max_idx=j\n",
        "        a[i],a[max_idx] = a[max_idx],a[i]\n",
        "\n",
        "d = [2, 4, 5, 1, 3]\n",
        "\n",
        "sel_sort(d)\n",
        "\n",
        "print(d)"
      ],
      "execution_count": null,
      "outputs": []
    },
    {
      "cell_type": "markdown",
      "metadata": {
        "id": "3z-7HmZRA0_m"
      },
      "source": [
        "## 9장 삽입정렬\n",
        "\n",
        "정렬되지 않은 값을 이전에 정렬된 배열 과 비교해서 정렬하는 방식 \n",
        "\n",
        "선택정렬은 두개(최댓값 혹은 최솟값과 맨 오른족 값(왼쪽)값) 를 비교해서 정렬하는 방식"
      ]
    },
    {
      "cell_type": "code",
      "metadata": {
        "id": "LY1LZq9dAtvs"
      },
      "source": [
        "def find_ins_idx(r,v):\n",
        "    for i in range(0,len(r)):\n",
        "        if v <r[i]:\n",
        "            return i\n",
        "    return len(r)\n",
        "\n",
        "def ins_sort(a):\n",
        "    result=[]\n",
        "    while a: #리스트에 자료가 남아있다면\n",
        "        value = a.pop(0) #남은 자료 중에 맨 앞의 값을 뽑아낸다\n",
        "        ins_idx = find_ins_idx(result,value) #그 값이 result의 어느 위치에 들어가면 적당한지 알아낸다.\n",
        "        result.insert(ins_idx,value) #찾아낸 위치에 뽑은 값을 삽입\n",
        "        print(a,result)\n",
        "    return result #자료가 없을때까지 반복\n",
        "\n",
        "d = [2,4,5,1,3]\n",
        "print(ins_sort(d))\n"
      ],
      "execution_count": null,
      "outputs": []
    },
    {
      "cell_type": "code",
      "metadata": {
        "id": "KkaBbIChHEKS"
      },
      "source": [
        "def ins_sort(a):\n",
        "    n = len(a)\n",
        "    for i in range(1,n): # 1부터 n -1까지\n",
        "        key = a[i] # i번 위치에 있는 값을 key에 저장\n",
        "\n",
        "        # j를 i 바로 왼쪽 위치로 저장\n",
        "        j = i-1\n",
        "\n",
        "        while j >= 0 and a[j] > key:  # 리스트의 j번 위치에 있는 값과 key를 비교해 key가 삽입될 적절한 위치를 찾음\n",
        "            a[j+1] = a[j] # 삽입할 공간이 생기도록 값을 오른쪽으로 한 칸 이동\n",
        "            j -=1 #j-1을 해서 커서 위치를 바꿔야한다. \n",
        "        print(a[j])\n",
        "        a[j+1]=key # 찾은 삽입 위치에 key를 저장\n",
        "        #print(a[j+1])\n",
        "\n",
        "d = [2, 4, 5, 1, 3]\n",
        "\n",
        "ins_sort(d)\n",
        "\n",
        "print(d)"
      ],
      "execution_count": null,
      "outputs": []
    },
    {
      "cell_type": "markdown",
      "metadata": {
        "id": "cpTDRXD2IBqY"
      },
      "source": [
        "9-1 일반적인 삽입 정렬 알고리즘을 사용해서 리스트 [2, 4, 5, 1, 3]을 정렬하는 과정을 적어 보세요.\n",
        "\n",
        " \n",
        "\n",
        "9-2 문제 9에서 설명한 정렬 알고리즘은 숫자를 작은 수에서 큰 수 순서로 나열하는 오름차순 정렬이었습니다. 이를 큰 수에서 작은 수 순서로 나열하는 내림차순 정렬로 바꾸려면 프로그램의 어느 부분을 바꿔야 할까요?"
      ]
    },
    {
      "cell_type": "code",
      "metadata": {
        "id": "BhC4bsLEHylt"
      },
      "source": [
        "def ins_sort(a):\n",
        "    n = len(a)\n",
        "    for i in range(1,n): # 1부터 n -1까지\n",
        "        key = a[i] # i번 위치에 있는 값을 key에 저장\n",
        "\n",
        "        # j를 i 바로 왼쪽 위치로 저장\n",
        "        j = i-1\n",
        "\n",
        "        while j >= 0 and a[j] < key:  # 리스트의 j번 위치에 있는 값과 key를 비교해 key가 삽입될 적절한 위치를 찾음\n",
        "            a[j+1] = a[j] # 삽입할 공간이 생기도록 값을 오른쪽으로 한 칸 이동\n",
        "            j -=1\n",
        "        #print(a[j])\n",
        "        a[j+1]=key # 찾은 삽입 위치에 key를 저장\n",
        "        print(a)\n",
        "\n",
        "d = [2, 4, 5, 1, 3]\n",
        "\n",
        "ins_sort(d)\n",
        "\n",
        "print(d)"
      ],
      "execution_count": null,
      "outputs": []
    },
    {
      "cell_type": "code",
      "metadata": {
        "id": "x3C9uSt4JY2u"
      },
      "source": [
        ""
      ],
      "execution_count": null,
      "outputs": []
    }
  ]
}