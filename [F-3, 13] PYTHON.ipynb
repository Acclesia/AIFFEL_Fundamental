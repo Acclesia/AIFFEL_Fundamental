{
 "cells": [
  {
   "cell_type": "markdown",
   "metadata": {},
   "source": [
    "# [F 13] 파이썬 잘 하는 척 해보자\n",
    "#변수 #함수 #연산자\n",
    "#제어문(if, while, for)\n",
    "#자료형 \n",
    "#Try-except #multiprocessing #lambda \n",
    "#class #module #package"
   ]
  },
  {
   "cell_type": "markdown",
   "metadata": {},
   "source": [
    "# 목차\n",
    "1. 함수\n",
    "\n",
    " \n",
    "* 입력\n",
    "* 함수\n",
    "* 출력\n",
    "* 람다 \n",
    "\n",
    "\n",
    "2. 제어문\n",
    "\n",
    "\n",
    "* if\n",
    "* for\n",
    "* while\n",
    "\n",
    "\n",
    "3. 자료형(파이썬-2):f3-코랩\n",
    "\n",
    "\n",
    "* 정수, 소수, nonetype, 불리언, 문자열, 튜플(), 리스트[], 딕셔너리{key:value}\n",
    "\n",
    "\n",
    "4. Try-Except\n",
    "\n",
    "5. multiprocessing(module)\n"
   ]
  },
  {
   "cell_type": "markdown",
   "metadata": {},
   "source": [
    "# 한줄정리 & 한줄 소감\n",
    "1. 처음 이부분을 배웠을땐 용어가 너무 헷갈렸다. 변수, 인자, 입력값 이런 용어가 이해가 안됐고 변수와 매개변수의 차이를 이해하지 못했는데 복습하면서 머리 속에 정리가 됐다. \n",
    "2. 반복문은 개념은 이해됐고 눈코딩도 되지만 아직 손으로 써보는건 연습이 필요하다. 아이펠을 한달 반정도 진행하면서 자주 사용하는 함수는 어느정도 이해했지만 아직 응용은 어렵다...계속 연습하자!!"
   ]
  },
  {
   "cell_type": "markdown",
   "metadata": {},
   "source": [
    "# 1. 함수"
   ]
  },
  {
   "cell_type": "markdown",
   "metadata": {},
   "source": [
    "# 형태\n",
    "\n",
    "입력값(x)   say_hi(준이)      \n",
    "\n",
    "#준이=입력값=인자=변수값 \n",
    "\n",
    " * |\n",
    "  \n",
    " 함수(f(x)) def say_hi(준이)   \n",
    " \n",
    "#함수명(변수) - 함수 안에 들어간 변수 = 매개변수\n",
    " \n",
    "*  |\n",
    "  \n",
    "출력값\n",
    "\n",
    "\n",
    "print()        \n",
    "#화면에 값을 표시한다. 함수내에서 사용할 순 없다.\n",
    "\n",
    "\n",
    "return     \n",
    "\n",
    "#출력값으로 함수 실행 후 그 결과를 사용하고 싶을때 출력(return)하고 사용한다.  "
   ]
  },
  {
   "cell_type": "code",
   "execution_count": 1,
   "metadata": {},
   "outputs": [
    {
     "name": "stdout",
     "output_type": "stream",
     "text": [
      "5\n"
     ]
    }
   ],
   "source": [
    "def add(a,b):\n",
    "    return a+b\n",
    "result=add(a=3,b=2) #  함수 호출시 입력값을 지정한다.\n",
    "print(result)"
   ]
  },
  {
   "cell_type": "code",
   "execution_count": 2,
   "metadata": {},
   "outputs": [
    {
     "name": "stdout",
     "output_type": "stream",
     "text": [
      "6\n",
      "55\n"
     ]
    }
   ],
   "source": [
    "# 입력값이 몇개일지 모를경우 \n",
    "def add_many(*args): # *입력값을 모두 모아서 튜플로 만든다.\n",
    "    result = 0\n",
    "    for i in args:\n",
    "        result = result+i   #*args에 입력받은 모든 값을 더한다.\n",
    "    return result\n",
    "\n",
    "result = add_many(1,2,3)\n",
    "print(result)\n",
    "\n",
    "result = add_many(1,2,3,4,5,6,7,8,9,10)\n",
    "print(result)"
   ]
  },
  {
   "cell_type": "markdown",
   "metadata": {},
   "source": [
    "## 1-1) lambda\n",
    "런타임에서 생성해서 사용하는 이름이 없는 함수 \n",
    "* 한줄로 표현하는 함수\n",
    "* map 함수랑 자주 사용"
   ]
  },
  {
   "cell_type": "code",
   "execution_count": 47,
   "metadata": {},
   "outputs": [
    {
     "name": "stdout",
     "output_type": "stream",
     "text": [
      "12\n"
     ]
    }
   ],
   "source": [
    "# x,y 입력값 자리\n",
    "# x*y return 부분\n",
    "# 3,4 입력값 \n",
    "\n",
    "print( (lambda x,y: x * y)(3, 4) )"
   ]
  },
  {
   "cell_type": "markdown",
   "metadata": {},
   "source": [
    "map 함수는 입력값으로 함수(f)와 반복가능한 객체(튜플, 리스트)를 받는다. \n",
    "* map(list_mul,[1,2,3])\n",
    "* map의 결과는 출력값인 객체임으로 리스트로 바꿔야한다."
   ]
  },
  {
   "cell_type": "code",
   "execution_count": 48,
   "metadata": {},
   "outputs": [
    {
     "name": "stdout",
     "output_type": "stream",
     "text": [
      "[2, 4, 6]\n"
     ]
    }
   ],
   "source": [
    "def list_mul(x):\n",
    "     return x * 2\n",
    " # 리스트안에 있는 수를 함수에 적용하고 그 값을 묶어서 list로 출력한다. \n",
    "result = list(map(list_mul, [1, 2, 3]))\n",
    "print(result)"
   ]
  },
  {
   "cell_type": "code",
   "execution_count": 49,
   "metadata": {},
   "outputs": [
    {
     "name": "stdout",
     "output_type": "stream",
     "text": [
      "[2, 4, 6]\n"
     ]
    }
   ],
   "source": [
    "#lambda 와 map 같이 사용\n",
    "# i 자리에 [1,2,3]을 입력값으로 넣고 \n",
    "# i*2 로 출력된 값을 리스트로 묶어서 보여준다\n",
    "result = list(map(lambda i: i * 2 , [1, 2, 3]))\n",
    "print(result)"
   ]
  },
  {
   "cell_type": "markdown",
   "metadata": {},
   "source": [
    "# 2. 제어문"
   ]
  },
  {
   "cell_type": "markdown",
   "metadata": {},
   "source": [
    "## 2-1) if \n",
    "참과 거짓을 판단하는 문장이다. \n",
    "IF 조건문:\n",
    "   수행할 문장1\n",
    "   수행할 문장2"
   ]
  },
  {
   "cell_type": "code",
   "execution_count": 3,
   "metadata": {},
   "outputs": [
    {
     "name": "stdout",
     "output_type": "stream",
     "text": [
      "걷자\n"
     ]
    }
   ],
   "source": [
    "money = 10000\n",
    "if money>= 15000:\n",
    "    print(\"택시타자\")\n",
    "else:\n",
    "    print(\"걷자\")"
   ]
  },
  {
   "cell_type": "markdown",
   "metadata": {},
   "source": [
    "## 2-2) for\n",
    "반복 횟수가 명확할때 문자열, 리스트 튜플에 있는 요소를 하나씩 반복한다.\n",
    "\n",
    "for 변수 in 리스트(튜플, 문자열):\n",
    "    수행할 문장!"
   ]
  },
  {
   "cell_type": "code",
   "execution_count": 6,
   "metadata": {},
   "outputs": [
    {
     "name": "stdout",
     "output_type": "stream",
     "text": [
      "햄버거\n",
      "피자\n",
      "치킨\n"
     ]
    }
   ],
   "source": [
    "test_food = [\"햄버거\",\"피자\",\"치킨\"]  #1,5,9\n",
    "\n",
    "for food in test_food:  #2,6,10\n",
    "    print(food)         #3,7,11\n",
    "                #출력    #4(햄버거),8(피자),12(치킨) - 종료    \n",
    "                    "
   ]
  },
  {
   "cell_type": "code",
   "execution_count": 7,
   "metadata": {},
   "outputs": [
    {
     "name": "stdout",
     "output_type": "stream",
     "text": [
      "합격입니다.\n",
      "합격입니다.\n",
      "불합격입니다.\n",
      "합격입니다.\n",
      "불합격입니다.\n"
     ]
    }
   ],
   "source": [
    "# 다섯명의 시험 점수- 합격 불합격 판별: 65점 이상 합격 \n",
    "\n",
    "score_list=[100,90,45,70,55]\n",
    "for score in score_list:\n",
    "    if score >=65:\n",
    "        print(\"합격입니다.\")\n",
    "    else:\n",
    "        print(\"불합격입니다.\")"
   ]
  },
  {
   "cell_type": "code",
   "execution_count": 15,
   "metadata": {},
   "outputs": [
    {
     "name": "stdout",
     "output_type": "stream",
     "text": [
      "2번 학생은 합격입니다\n",
      "3번 학생은 합격입니다\n",
      "4번 학생은 불합격입니다\n",
      "5번 학생은 합격입니다\n",
      "6번 학생은 불합격입니다\n"
     ]
    }
   ],
   "source": [
    "# % 연산자\n",
    "score_list=[100,90,45,70,55]\n",
    "number = 1\n",
    "for score in score_list:\n",
    "    number+=1\n",
    "    if score >=65: #%d는 숫자 %s는 문자 \n",
    "        print(\"%d번 학생은 합격입니다\" %number)\n",
    "    else:\n",
    "        print(\"%d번 학생은 불합격입니다\" %number)\n",
    "        "
   ]
  },
  {
   "cell_type": "code",
   "execution_count": 16,
   "metadata": {},
   "outputs": [
    {
     "name": "stdout",
     "output_type": "stream",
     "text": [
      "number번 학생은 합격입니다\n",
      "number번 학생은 합격입니다\n",
      "number번 학생은 불합격입니다\n",
      "number번 학생은 합격입니다\n",
      "number번 학생은 불합격입니다\n"
     ]
    }
   ],
   "source": [
    "#formate 함수 \n",
    "score_list=[100,90,45,70,55]\n",
    "number = 1\n",
    "for score in score_list:\n",
    "    number+=1\n",
    "    if score >=65: #format 은 {}사용한다. [] 안됨\n",
    "        print(\"{}번 학생은 합격입니다\".format(\"number\"))\n",
    "    else:\n",
    "        print(\"{}번 학생은 불합격입니다\".format(\"number\"))\n",
    "        "
   ]
  },
  {
   "cell_type": "code",
   "execution_count": 22,
   "metadata": {},
   "outputs": [
    {
     "name": "stdout",
     "output_type": "stream",
     "text": [
      "순서 :  0  , 값 :  a\n",
      "순서 :  1  , 값 :  b\n",
      "순서 :  2  , 값 :  c\n",
      "순서 :  3  , 값 :  d\n"
     ]
    }
   ],
   "source": [
    "# enumerate()\n",
    "# 순서가 있는 자료형(리스트, 문자열, 튜플)의 순서와 값을 같이 반환하는 함수\n",
    "my_list = ['a','b','c','d']\n",
    "\n",
    "for i, value in enumerate(my_list):\n",
    "    print(\"순서 : \", i, \" , 값 : \", value)"
   ]
  },
  {
   "cell_type": "code",
   "execution_count": 6,
   "metadata": {},
   "outputs": [
    {
     "name": "stdout",
     "output_type": "stream",
     "text": [
      "[(0, 'a'), (0, 'b'), (0, 'c'), (0, 'd'), (1, 'a'), (1, 'b'), (1, 'c'), (1, 'd')]\n"
     ]
    }
   ],
   "source": [
    "# 이중 for 문 \n",
    "my_list = ['a','b','c','d']\n",
    "result_list = [] #결과는 리스트 형식으로 만든다.\n",
    "\n",
    "for i in range(2): #range함수에 있는 범위(0-2)까지 list를 만든다.\n",
    "    for j in my_list: # mylist부터 for 문을 반복하고 바깥 for사용\n",
    "        result_list.append((i, j)) #결과는 i,j 형식으로 한다.\n",
    "        \n",
    "print(result_list)"
   ]
  },
  {
   "cell_type": "markdown",
   "metadata": {},
   "source": [
    "### Range 함수 \n",
    "* 연속된 숫자를 만드는 함수\n",
    "\n",
    "\n",
    "형식\n",
    "\n",
    "1. range(stop)\n",
    "\n",
    "\n",
    "- range(10) : 0-9까지 반복\n",
    "\n",
    "\n",
    "2. range(start,stop)\n",
    "\n",
    "\n",
    "- range(3,11) : 3-10까지 반복\n",
    "\n",
    "\n",
    "3. range(start,stop,step)\n",
    "\n",
    "\n",
    "- range(1,10,2) : 1-10까지 2씩 증가한다.\n"
   ]
  },
  {
   "cell_type": "code",
   "execution_count": 9,
   "metadata": {},
   "outputs": [
    {
     "name": "stdout",
     "output_type": "stream",
     "text": [
      "[3, 6, 9, 12]\n"
     ]
    }
   ],
   "source": [
    "# list comprehension\n",
    "# 한줄로 for문을 갖는 리스트 만들기 \n",
    "\n",
    "a = [1,2,3,4]\n",
    "result = [num*3 for num in a] \n",
    "# a에 있는 숫자를 반복하는데 *3을 해서 반복한다.\n",
    "\n",
    "print(result)"
   ]
  },
  {
   "cell_type": "code",
   "execution_count": 10,
   "metadata": {},
   "outputs": [
    {
     "name": "stdout",
     "output_type": "stream",
     "text": [
      "[(0, 'a'), (0, 'b'), (0, 'c'), (0, 'd'), (1, 'a'), (1, 'b'), (1, 'c'), (1, 'd')]\n"
     ]
    }
   ],
   "source": [
    "#이중for 문 예시\n",
    "my_list = ['a','b','c','d']\n",
    "\n",
    "result_list = [(i, j) for i in range(2) for j in my_list]\n",
    "# mylist에 있는 숫자를 반복, range범위도 반복하고 리스트에 i,j형식으로 넣는다\n",
    "\n",
    "print(result_list)"
   ]
  },
  {
   "cell_type": "code",
   "execution_count": 13,
   "metadata": {},
   "outputs": [
    {
     "name": "stdout",
     "output_type": "stream",
     "text": [
      ">>  8 data loaded..\n",
      "0 a\n",
      "0 b\n",
      "0 c\n",
      "0 d\n",
      "1 a\n",
      "1 b\n",
      "1 c\n",
      "1 d\n"
     ]
    }
   ],
   "source": [
    "# generator\n",
    "# 데이터를 1개씩 return 하는 함수 \n",
    "# 많은 양의 데이터를 처리할때 많은 양을 다 리턴하지 않고 필요한 것만 사용가능\n",
    "\n",
    "my_list = ['a','b','c','d']\n",
    "\n",
    "# mylist를 모두 한번에 return 하는 함수 \n",
    "def get_dataset_list(my_list):\n",
    "    result_list = []\n",
    "    for i in range(2):\n",
    "        for j in my_list:\n",
    "            result_list.append((i, j))\n",
    "    print('>>  {} data loaded..'.format(len(result_list)))\n",
    "    return result_list\n",
    "\n",
    "for X, y in get_dataset_list(my_list):\n",
    "    print(X, y)"
   ]
  },
  {
   "cell_type": "code",
   "execution_count": 14,
   "metadata": {},
   "outputs": [
    {
     "name": "stdout",
     "output_type": "stream",
     "text": [
      "0 a\n",
      ">>  1 data loaded..\n",
      "0 b\n",
      ">>  1 data loaded..\n",
      "0 c\n",
      ">>  1 data loaded..\n",
      "0 d\n",
      ">>  1 data loaded..\n",
      "1 a\n",
      ">>  1 data loaded..\n",
      "1 b\n",
      ">>  1 data loaded..\n",
      "1 c\n",
      ">>  1 data loaded..\n",
      "1 d\n",
      ">>  1 data loaded..\n"
     ]
    }
   ],
   "source": [
    "my_list = ['a','b','c','d']\n",
    "\n",
    "#mylist에 있는 인자를 1개씩 가져오는 generator 리턴하는 함수 \n",
    "def get_dataset_generator(my_list):\n",
    "    result_list = []\n",
    "    for i in range(2):\n",
    "        for j in my_list:\n",
    "            yield (i, j)\n",
    "            print('>>  1 data loaded..')\n",
    "\n",
    "dataset_generator = get_dataset_generator(my_list)\n",
    "for X, y in dataset_generator:\n",
    "    print(X, y)"
   ]
  },
  {
   "cell_type": "markdown",
   "metadata": {},
   "source": [
    "## 2-3) While\n",
    "반복해서 문장을 사용할 경우 while문 사용한다. \n",
    "조건식이 true일 경우 실행문장을 반복하고 거짓일 경우 종료한다. "
   ]
  },
  {
   "cell_type": "code",
   "execution_count": 19,
   "metadata": {},
   "outputs": [
    {
     "name": "stdout",
     "output_type": "stream",
     "text": [
      "1\n",
      "2\n",
      "3\n"
     ]
    }
   ],
   "source": [
    "number = 1\n",
    "while number <=3:\n",
    "    print(number)\n",
    "    number= number+1 #이 코드로 인해 +1을 언제할지 결정된다"
   ]
  },
  {
   "cell_type": "code",
   "execution_count": 22,
   "metadata": {},
   "outputs": [
    {
     "name": "stdout",
     "output_type": "stream",
     "text": [
      "1\n",
      "2\n",
      "3\n",
      "end\n"
     ]
    }
   ],
   "source": [
    "#while문 break로 빠져나가기 \n",
    "number = 1\n",
    "while number:\n",
    "    print(number)\n",
    "    number= number+1\n",
    "    if number >3:\n",
    "        print(\"end\")\n",
    "        break#이 코드로 인해 +1을 언제할지 결정된다"
   ]
  },
  {
   "cell_type": "markdown",
   "metadata": {},
   "source": [
    "# 3. 자료형 : Python 2 참고할것"
   ]
  },
  {
   "cell_type": "markdown",
   "metadata": {},
   "source": [
    "# 4. Try-Except\n",
    "- 코드 수행하다가 에러가 생겼을때 에러를 무시하거나 에러를 표시하는 메시지 변수 표시"
   ]
  },
  {
   "cell_type": "code",
   "execution_count": 16,
   "metadata": {},
   "outputs": [
    {
     "ename": "ZeroDivisionError",
     "evalue": "division by zero",
     "output_type": "error",
     "traceback": [
      "\u001b[0;31m---------------------------------------------------------------------------\u001b[0m",
      "\u001b[0;31mZeroDivisionError\u001b[0m                         Traceback (most recent call last)",
      "\u001b[0;32m<ipython-input-16-846089271403>\u001b[0m in \u001b[0;36m<module>\u001b[0;34m\u001b[0m\n\u001b[0;32m----> 1\u001b[0;31m \u001b[0mprint\u001b[0m\u001b[0;34m(\u001b[0m\u001b[0;36m9\u001b[0m\u001b[0;34m/\u001b[0m\u001b[0;36m0\u001b[0m\u001b[0;34m)\u001b[0m\u001b[0;34m\u001b[0m\u001b[0;34m\u001b[0m\u001b[0m\n\u001b[0m\u001b[1;32m      2\u001b[0m \u001b[0;34m\u001b[0m\u001b[0m\n\u001b[1;32m      3\u001b[0m \u001b[0;31m#ZeroDivisionError: division by zero\u001b[0m\u001b[0;34m\u001b[0m\u001b[0;34m\u001b[0m\u001b[0;34m\u001b[0m\u001b[0m\n\u001b[1;32m      4\u001b[0m \u001b[0;31m# 0으로는 어떤 값도 나눌 수 없다. 이런 에러를 피하고 싶을때 사용!\u001b[0m\u001b[0;34m\u001b[0m\u001b[0;34m\u001b[0m\u001b[0;34m\u001b[0m\u001b[0m\n",
      "\u001b[0;31mZeroDivisionError\u001b[0m: division by zero"
     ]
    }
   ],
   "source": [
    "print(9/0)\n",
    "\n",
    "#ZeroDivisionError: division by zero\n",
    "# 0으로는 어떤 값도 나눌 수 없다. 이런 에러를 피하고 싶을때 사용!"
   ]
  },
  {
   "cell_type": "code",
   "execution_count": 17,
   "metadata": {},
   "outputs": [
    {
     "name": "stdout",
     "output_type": "stream",
     "text": [
      "에러가 발생했습니다.\n"
     ]
    }
   ],
   "source": [
    "a = 10\n",
    "b = 0\n",
    "try: #에러가 아닐 경우 try코드가 정상실행\n",
    "    \n",
    "    print(a/b)\n",
    "\n",
    "except:\n",
    "    #에러가 생겼을때 오류메시지가 뜬다\n",
    "    print('에러가 발생했습니다.')"
   ]
  },
  {
   "cell_type": "code",
   "execution_count": 21,
   "metadata": {},
   "outputs": [
    {
     "name": "stdout",
     "output_type": "stream",
     "text": [
      "에러가 발생했습니다.\n",
      "값 수정 :  10.0\n"
     ]
    }
   ],
   "source": [
    "# 오류메시지 + 에러시 값을 수정하고 싶을때 \n",
    "a = 10\n",
    "b = 0 \n",
    "\n",
    "try:\n",
    "    \n",
    "    print(a/b)\n",
    "\t\t\n",
    "except:\n",
    "    print('에러가 발생했습니다.')\n",
    "    #아래 식으로 수정한다. b=1 \n",
    "    b = b+1 \n",
    "    print(\"값 수정 : \", a/b)"
   ]
  },
  {
   "cell_type": "markdown",
   "metadata": {},
   "source": [
    "# 5.multiprocessing 병렬처리"
   ]
  },
  {
   "cell_type": "code",
   "execution_count": 51,
   "metadata": {},
   "outputs": [
    {
     "name": "stdout",
     "output_type": "stream",
     "text": [
      "finish :  p1\n",
      "finish :  p2\n",
      "finish :  p3\n",
      "finish :  p4\n",
      "time : 6.925466299057007\n"
     ]
    }
   ],
   "source": [
    "#절차지향\n",
    "#순차적으로 처리되서 순서대로 값이 나온다.\n",
    "import time\n",
    "\n",
    "num_list = ['p1','p2', 'p3', 'p4']\n",
    "start = time.time()\n",
    "\n",
    "def count(name):\n",
    "    for i in range(0, 100000000):\n",
    "        a=1+2\n",
    "        \n",
    "    print(\"finish : \",name)\n",
    "\n",
    "for num in num_list:\n",
    "    count(num)\n",
    "\n",
    "print(\"time :\", time.time() - start)"
   ]
  },
  {
   "cell_type": "code",
   "execution_count": 24,
   "metadata": {},
   "outputs": [
    {
     "name": "stdout",
     "output_type": "stream",
     "text": [
      "finish :  p2\n",
      "finish :  p1\n",
      "finish :  p4\n",
      "finish :  p3\n",
      "time : 2.0159075260162354\n"
     ]
    }
   ],
   "source": [
    "#병렬처리는 동시에 처리되서 처리되는 순서대로 값이 나온다.\n",
    "import multiprocessing\n",
    "import time\n",
    "\n",
    "num_list = ['p1','p2', 'p3', 'p4']\n",
    "start = time.time()\n",
    "\n",
    "def count(name):\n",
    "    for i in range(0, 100000000):\n",
    "            a=1+2\n",
    "    print(\"finish : \",name)\n",
    "    \n",
    "\n",
    "if __name__ == '__main__':\n",
    "    pool = multiprocessing.Pool(processes = 4) #병렬 4개 사용\n",
    "    pool.map(count, num_list) #count함수에 numlist 원소를 넣는다\n",
    "    pool.close()\n",
    "    pool.join()\n",
    "\n",
    "print(\"time :\", time.time() - start)"
   ]
  },
  {
   "cell_type": "markdown",
   "metadata": {},
   "source": [
    "내장변수  if__name__ = \"__main__\":\n",
    "현재 모듈의 이름을 담고 있는 내장변수 \n",
    "\n",
    "직접 실행되면 __main__이라는 값 가진다. \n",
    "\n",
    "직접실행 안되면 import된 모듈의 이름 갖는다. \n"
   ]
  },
  {
   "cell_type": "code",
   "execution_count": 34,
   "metadata": {},
   "outputs": [
    {
     "name": "stdout",
     "output_type": "stream",
     "text": [
      "9\n"
     ]
    }
   ],
   "source": [
    "#module.py \n",
    "# 모듈안에 저장된 함수 \n",
    "# __name__이라는 내장변수를 출력하도록 함\n",
    "def hello(a,b):\n",
    "    return a+b\n",
    "\n",
    "print(hello(1,8))"
   ]
  },
  {
   "cell_type": "code",
   "execution_count": 35,
   "metadata": {},
   "outputs": [
    {
     "name": "stdout",
     "output_type": "stream",
     "text": [
      "__main__\n"
     ]
    }
   ],
   "source": [
    "#module.py \n",
    "# __name__이라는 내장변수를 출력하도록 함\n",
    "\n",
    "def hello(a,b):\n",
    "    return a+b\n",
    "\n",
    "print(__name__) #모듈이 직접실행되면 main이라는 값나오거나 할당된 입력값이 나옴"
   ]
  },
  {
   "cell_type": "code",
   "execution_count": 38,
   "metadata": {},
   "outputs": [],
   "source": [
    "import module \n",
    "\n",
    "print(__name__)\n",
    "module.hello()\n",
    "\n",
    "#결과\n",
    "module\n",
    "__main__\n",
    "9  #내가 값을 할당하지 않아도 이전에 모듈이 실행되어 9라는 값 출력!\n",
    "\n",
    "# import하면 모듈의 이름이 먼저 출력되고 \n",
    "# module.py가 가진 main이 출력되고 모듈의 함수의 호출결과가 출력된다. "
   ]
  },
  {
   "cell_type": "markdown",
   "metadata": {},
   "source": [
    "위에 경우는 내가 함수만 이용하고 싶을때 문제가 됨\n",
    "다른 값을 넣어서 함수를 사용할 수 없음! \n",
    "\n",
    "그래서! \n",
    "\n",
    "if__name__=\"__main__\" 조건문을 넣는다"
   ]
  },
  {
   "cell_type": "code",
   "execution_count": 46,
   "metadata": {},
   "outputs": [],
   "source": [
    "#module.py \n",
    "def hello(a,b):\n",
    "    return a+b\n",
    "\n",
    "if__name__== \"__main__\" : # 이 함수를 둬서 실행되길 원하는 코드를 넣어준다\n",
    "    print(hello(5+9))"
   ]
  }
 ],
 "metadata": {
  "kernelspec": {
   "display_name": "aiffel",
   "language": "python",
   "name": "aiffel"
  },
  "language_info": {
   "codemirror_mode": {
    "name": "ipython",
    "version": 3
   },
   "file_extension": ".py",
   "mimetype": "text/x-python",
   "name": "python",
   "nbconvert_exporter": "python",
   "pygments_lexer": "ipython3",
   "version": "3.7.9"
  }
 },
 "nbformat": 4,
 "nbformat_minor": 4
}
