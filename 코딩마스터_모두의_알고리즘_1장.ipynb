{
  "nbformat": 4,
  "nbformat_minor": 0,
  "metadata": {
    "colab": {
      "name": "코딩마스터- 모두의 알고리즘 1장",
      "private_outputs": true,
      "provenance": [],
      "collapsed_sections": [],
      "authorship_tag": "ABX9TyPSm8kKZxgDq1Lhr63CEYXf",
      "include_colab_link": true
    },
    "kernelspec": {
      "name": "python3",
      "display_name": "Python 3"
    },
    "language_info": {
      "name": "python"
    }
  },
  "cells": [
    {
      "cell_type": "markdown",
      "metadata": {
        "id": "view-in-github",
        "colab_type": "text"
      },
      "source": [
        "<a href=\"https://colab.research.google.com/github/Acclesia/AIFFEL_Fundamental/blob/main/%EC%BD%94%EB%94%A9%EB%A7%88%EC%8A%A4%ED%84%B0_%EB%AA%A8%EB%91%90%EC%9D%98_%EC%95%8C%EA%B3%A0%EB%A6%AC%EC%A6%98_1%EC%9E%A5.ipynb\" target=\"_parent\"><img src=\"https://colab.research.google.com/assets/colab-badge.svg\" alt=\"Open In Colab\"/></a>"
      ]
    },
    {
      "cell_type": "code",
      "metadata": {
        "id": "exzqm93h7dhr"
      },
      "source": [
        ""
      ],
      "execution_count": null,
      "outputs": []
    },
    {
      "cell_type": "markdown",
      "metadata": {
        "id": "fx5Nm8or7j67"
      },
      "source": [
        "# 코딩마스터 모두의 알고리즘 1장\n",
        "Date: 21.03.31\n"
      ]
    },
    {
      "cell_type": "markdown",
      "metadata": {
        "id": "mrrPOh-hDkhs"
      },
      "source": [
        "## 문제 1) 1부터 n까지의 합 구하기"
      ]
    },
    {
      "cell_type": "code",
      "metadata": {
        "id": "p3bm_l-BCYoJ"
      },
      "source": [
        "def sum_n(n):\n",
        "\n",
        "    s = 0                     # 합을 계산할 변수\n",
        "\n",
        "    for i in range(1, n + 1): # 1부터 n까지 반복(n + 1은 제외)\n",
        "\n",
        "        s = s + i\n",
        "\n",
        "    return s\n",
        "\n",
        "\n",
        "\n",
        "print(sum_n(10))              # 1부터 10까지의 합(입력: 10, 출력: 55)\n",
        "\n",
        "print(sum_n(100))   "
      ],
      "execution_count": null,
      "outputs": []
    },
    {
      "cell_type": "code",
      "metadata": {
        "id": "EF-g51ntDj6A"
      },
      "source": [
        "def sum_n(n):\n",
        "\n",
        "    return n * (n + 1) // 2   # 슬래시 두 개(//)는 정수 나눗셈을 의미\n",
        "\n",
        " \n",
        "\n",
        "print(sum_n(10))   # 1부터 10까지의 합(입력: 10, 출력: 55)\n",
        "\n",
        "print(sum_n(100))"
      ],
      "execution_count": null,
      "outputs": []
    },
    {
      "cell_type": "code",
      "metadata": {
        "id": "H-6SJFKpDykK"
      },
      "source": [
        "#연습문제 1번 \n",
        "def sum_n(n):\n",
        "\n",
        "    s = 0                     # 합을 계산할 변수\n",
        "\n",
        "    for i in range(1, n + 1): # 1부터 n까지 반복(n + 1은 제외)\n",
        "\n",
        "        s = s + i*i\n",
        "\n",
        "    return s\n",
        "\n",
        "\n",
        "\n",
        "print(sum_n(10)) "
      ],
      "execution_count": null,
      "outputs": []
    },
    {
      "cell_type": "markdown",
      "metadata": {
        "id": "iNbmEPDYD8Bn"
      },
      "source": [
        "## 문제 2) 1부터 n까지의 합 구하기"
      ]
    },
    {
      "cell_type": "code",
      "metadata": {
        "id": "yWUq38k9D3Wf"
      },
      "source": [
        "def find_max(a):\n",
        "\n",
        "    n = len(a)             # 입력 크기 n\n",
        "\n",
        "    max_v = a[0]           # 리스트의 첫 번째 값을 최댓값으로 기억\n",
        "\n",
        "    for i in range(1, n):  # 1부터 n -1까지 반복\n",
        "\n",
        "        if a[i] > max_v:   # 이번 값이 현재까지 기억된 최댓값보다 크면\n",
        "\n",
        "            max_v = a[i]   # 최댓값을 변경\n",
        "\n",
        "    return max_v\n",
        "\n",
        " \n",
        "\n",
        "v = [17, 92, 18, 33, 58, 7, 33, 42]\n",
        "\n",
        "print(find_max(v))"
      ],
      "execution_count": null,
      "outputs": []
    },
    {
      "cell_type": "code",
      "metadata": {
        "id": "987Lwb4uEZj5"
      },
      "source": [
        "def find_max_idx(a):\n",
        "\n",
        "    n = len(a)                 # 입력 크기 n\n",
        "\n",
        "    max_idx = 0                # 리스트 중 0번 위치를 최댓값 위치로 기억\n",
        "\n",
        "    for i in range(1, n):\n",
        "\n",
        "        if a[i] > a[max_idx]:  # 이번 값이 현재까지 기억된 최댓값보다 크면\n",
        "\n",
        "            max_idx = i        # 최댓값의 위치를 변경\n",
        "\n",
        "    return max_idx\n",
        "\n",
        " \n",
        "\n",
        "v = [17, 92, 18, 33, 58, 7, 33, 42]\n",
        "\n",
        "print(find_max_idx(v))"
      ],
      "execution_count": null,
      "outputs": []
    },
    {
      "cell_type": "code",
      "metadata": {
        "id": "J541L0cKEoqK"
      },
      "source": [
        "# 예제 1번\n",
        "def find_min(a):\n",
        "\n",
        "    n = len(a)             # 입력 크기 n\n",
        "\n",
        "    min_v = a[0]           # 리스트의 첫 번째 값을 최솟값으로 기억\n",
        "\n",
        "    for i in range(1, n):  # 1부터 n -1까지 반복\n",
        "\n",
        "        if a[i] < min_v:   # 이번 값이 현재까지 기억된 최솟값보다 크면\n",
        "\n",
        "            min_v = a[i]   # 최솟값을 변경\n",
        "\n",
        "    return min_v\n",
        "\n",
        " \n",
        "\n",
        "v = [17, 92, 18, 33, 58, 7, 33, 42]\n",
        "\n",
        "print(find_min(v))"
      ],
      "execution_count": null,
      "outputs": []
    },
    {
      "cell_type": "code",
      "metadata": {
        "id": "pYPKTa7mE34F"
      },
      "source": [
        "#예제 1-1번\n",
        "def find_min_idx(a):\n",
        "\n",
        "    n = len(a)             # 입력 크기 n\n",
        "\n",
        "    min_idx = 0           # 리스트의 첫 번째 값을 최솟값으로 기억\n",
        "\n",
        "    for i in range(1, n):  # 1부터 n -1까지 반복\n",
        "\n",
        "        if a[i] < a[min_idx]:   # 이번 값이 현재까지 기억된 최솟값보다 크면\n",
        "\n",
        "            min_idx = i   # 최솟값을 변경\n",
        "\n",
        "    return min_idx\n",
        "\n",
        "v = [17, 92, 18, 33, 58, 7, 33, 42]\n",
        "\n",
        "print(find_min_idx(v))"
      ],
      "execution_count": null,
      "outputs": []
    },
    {
      "cell_type": "markdown",
      "metadata": {
        "id": "QGIzDUIAF393"
      },
      "source": [
        "## 문제 3) 동명이인 찾기 1"
      ]
    },
    {
      "cell_type": "code",
      "metadata": {
        "id": "MMWSFrkJGMy3"
      },
      "source": [
        "def find_same_name(a):\n",
        "    n = len(a)\n",
        "    result= set()\n",
        "    for i in range(0,n-1):\n",
        "        for j in range(i+1,n):\n",
        "            if a[i] == a[j]:\n",
        "                result.add(a[i])\n",
        "    return result\n",
        "\n",
        "name=[\"Tom\",\"Jerry\",\"Mike\",\"Tom\"]\n",
        "print(find_same_name(name))\n",
        "name2= [\"Tom\",\"Jerry\",\"Mike\",\"Tom\",\"Mike\"]\n",
        "print(find_same_name(name2))"
      ],
      "execution_count": null,
      "outputs": []
    },
    {
      "cell_type": "code",
      "metadata": {
        "id": "JW-Riw1lHAF1"
      },
      "source": [
        "# 예제 1 - n명 중 2명을 뽑아 짝을 짓는다고 할때 짝 지을 수 있는 모든 조합을 출력하는 알고리즘\n",
        "\n",
        "def find_a(a):\n",
        "    n = len(a)\n",
        "    for i in range(0,n-1):\n",
        "        for j in range(i+1,n):\n",
        "            print(a[i],\"-\",a[j])\n",
        "\n",
        "name=[\"Tom\",\"Jerry\",\"Mike\"]\n",
        "print(find_a(name))"
      ],
      "execution_count": null,
      "outputs": []
    },
    {
      "cell_type": "markdown",
      "metadata": {
        "id": "1SwMlx8oa8c4"
      },
      "source": [
        "# 추가 문제 \n",
        "1. 약수 구하기 \n",
        "2. 리그 경기 횟수 구하기 \n",
        "3. 윤년\n",
        "4. k 번째 수 \n",
        "5. 두 정수 사이의 합\n"
      ]
    },
    {
      "cell_type": "code",
      "metadata": {
        "id": "yUyfKoETRJ8x"
      },
      "source": [
        "# 1번 : 양의 정수를 입력 받고 그 수의 약수를 모두 출력하는 프로그램을 만드시오\n",
        "# 약수는 a/b 일때 나머지가 0 이면  b는 a의 약수다.\n",
        "\n",
        "n = int(input(\"정수를 입력하세요: \"))\n",
        "\n",
        "for i in range(1,n+1):\n",
        "    if n%i ==0:\n",
        "        #result.append(i)\n",
        "        print(i,end=\" \") #문장출력하고 마지막에 뭘로 끝낼지 나는 공백으로 함 "
      ],
      "execution_count": null,
      "outputs": []
    },
    {
      "cell_type": "code",
      "metadata": {
        "id": "iOmjmawnljxR"
      },
      "source": [
        "# 2번 리그 경기 횟수 구하기 \n",
        "# 리그에 속해있는 팀의 수 n이 주어지고 각 팀은 자신을 제외한 모든 팀과 한 경기씩 치루어 순위를 가리는 스포츠 리그전에서 치루어지는 경기의 수를 구하는 프로그램을 작성하십시오.\n",
        "# 2팀이면 1경기, 3팀이면 3경기, 4팀이면 6경기가 치루어 집니다\n",
        "# 중간에 하다가 마무리를 못지음...\n",
        "# def paly(a):\n",
        "#     n = int(input(\"참여하는 팀의 수: \"))\n",
        "#     for i in range(1, n+1):\n",
        "\n",
        "\n",
        "def play(a):\n",
        "    return n*(n-1)//2\n",
        "\n",
        "print(play(10))"
      ],
      "execution_count": null,
      "outputs": []
    },
    {
      "cell_type": "code",
      "metadata": {
        "id": "gIKxSoQko97_"
      },
      "source": [
        ""
      ],
      "execution_count": null,
      "outputs": []
    }
  ]
}