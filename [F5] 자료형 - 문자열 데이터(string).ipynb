{
 "cells": [
  {
   "cell_type": "markdown",
   "metadata": {},
   "source": [
    "# [F 5] 데이터 파악하기 - 문자열 데이터"
   ]
  },
  {
   "cell_type": "markdown",
   "metadata": {},
   "source": [
    "# 목차"
   ]
  },
  {
   "cell_type": "markdown",
   "metadata": {},
   "source": [
    "## 배열\n",
    "배열이란 데이터의 묶음\n",
    "\n",
    "특징\n",
    "\n",
    "1. 연속되어 값이 저장된다. \n",
    "2. 인덱스로 검색하기 쉽다. \n",
    "3. 추가와 제거가 쉽지 않다. 삭제하면 배열의 공간이 남아서 채워야한다.\n",
    "4. 데이터 크기가 정해져 있다. \n",
    "\n",
    "\n",
    "## 리스트\n",
    "순서가 있는 데이터 집합\n",
    "\n",
    "특징\n",
    "\n",
    "1. 인덱스가 없다. \n",
    "2. 데이터가 각기 분리되어 저장되어 포인터로 연결됐다.\n",
    "3. 수정과 삭제시 포인터만 바꾸면 된다. \n",
    "4. 전 순서를 거쳐야 다음 순서로 갈 수 있다. \n",
    "5. 데이터 크기가 안정해졌다. \n",
    "\n",
    "참고: https://opentutorials.org/module/1335/8677"
   ]
  },
  {
   "cell_type": "code",
   "execution_count": 1,
   "metadata": {},
   "outputs": [
    {
     "name": "stdout",
     "output_type": "stream",
     "text": [
      "Enter a number :  (<Enter Key> to quit)3\n",
      "Enter a number :  (<Enter Key> to quit)5\n",
      "Enter a number :  (<Enter Key> to quit)11\n",
      "Enter a number :  (<Enter Key> to quit)\n",
      "\n",
      " average is 6.333333333333333\n"
     ]
    }
   ],
   "source": [
    "total = 0\n",
    "count = 0\n",
    "numbers = input(\"Enter a number :  (<Enter Key> to quit)\")\n",
    "while numbers != \"\":\n",
    "    try:\n",
    "        x = float(numbers)\n",
    "        count += 1\n",
    "        total = total + x\n",
    "    except ValueError:\n",
    "        print('NOT a number! Ignored..')\n",
    "    numbers = input(\"Enter a number :  (<Enter Key> to quit)\")\n",
    "avg = total / count\n",
    "print(\"\\n average is\", avg)"
   ]
  },
  {
   "cell_type": "code",
   "execution_count": null,
   "metadata": {},
   "outputs": [],
   "source": [
    "import array as arr\n",
    "\n",
    "mylist = [1, 2, 3]   # 이것은 파이썬 built-in list입니다. \n",
    "print(type(mylist))\n",
    "\n",
    "mylist.append('4')  # mylist의 끝에 character '4'를 추가합니다. \n",
    "print(mylist)\n",
    "\n",
    "mylist.insert(1, 5)  # mylist의 두번째 자리에 5를 끼워넣습니다.\n",
    "print(mylist)\n",
    "\n",
    "myarray = arr.array('i', [1, 2, 3])   # 이것은 array입니다. import array를 해야 쓸 수 있습니다.\n",
    "print(type(myarray))\n",
    "\n",
    "# 아래 라인의 주석을 풀고 실행하면 에러가 납니다.\n",
    "#myarray.append('4')    # myarray의 끝에 character '4'를 추가합니다. \n",
    "print(myarray)\n",
    "\n",
    "myarray.insert(1, 5)    # myarray의 두번째 자리에 5를 끼워넣습니다.\n",
    "print(myarray)"
   ]
  },
  {
   "cell_type": "code",
   "execution_count": null,
   "metadata": {},
   "outputs": [],
   "source": []
  },
  {
   "cell_type": "markdown",
   "metadata": {},
   "source": [
    "### 중앙값\n",
    "주어진 숫자배열에서 가장 중앙에 있는 숫자의 값"
   ]
  },
  {
   "cell_type": "code",
   "execution_count": 6,
   "metadata": {},
   "outputs": [
    {
     "ename": "NameError",
     "evalue": "name 'X' is not defined",
     "output_type": "error",
     "traceback": [
      "\u001b[0;31m---------------------------------------------------------------------------\u001b[0m",
      "\u001b[0;31mNameError\u001b[0m                                 Traceback (most recent call last)",
      "\u001b[0;32m<ipython-input-6-ae2cce0ab335>\u001b[0m in \u001b[0;36m<module>\u001b[0;34m\u001b[0m\n\u001b[1;32m     11\u001b[0m     \u001b[0;32mreturn\u001b[0m \u001b[0mmid\u001b[0m\u001b[0;34m\u001b[0m\u001b[0;34m\u001b[0m\u001b[0m\n\u001b[1;32m     12\u001b[0m \u001b[0;34m\u001b[0m\u001b[0m\n\u001b[0;32m---> 13\u001b[0;31m \u001b[0mprint\u001b[0m\u001b[0;34m(\u001b[0m\u001b[0;34m'X :'\u001b[0m\u001b[0;34m,\u001b[0m \u001b[0mX\u001b[0m\u001b[0;34m)\u001b[0m\u001b[0;34m\u001b[0m\u001b[0;34m\u001b[0m\u001b[0m\n\u001b[0m\u001b[1;32m     14\u001b[0m \u001b[0;34m\u001b[0m\u001b[0m\n\u001b[1;32m     15\u001b[0m \u001b[0mnums\u001b[0m \u001b[0;34m=\u001b[0m \u001b[0;34m[\u001b[0m\u001b[0;36m1\u001b[0m\u001b[0;34m,\u001b[0m\u001b[0;36m3\u001b[0m\u001b[0;34m,\u001b[0m\u001b[0;36m3\u001b[0m\u001b[0;34m,\u001b[0m\u001b[0;36m7\u001b[0m\u001b[0;34m,\u001b[0m\u001b[0;36m8\u001b[0m\u001b[0;34m,\u001b[0m\u001b[0;36m9\u001b[0m\u001b[0;34m]\u001b[0m\u001b[0;31m# 매개변수의 값으로 X를 사용함\u001b[0m\u001b[0;34m\u001b[0m\u001b[0;34m\u001b[0m\u001b[0m\n",
      "\u001b[0;31mNameError\u001b[0m: name 'X' is not defined"
     ]
    }
   ],
   "source": [
    "def median(nums):       \n",
    "    nums.sort()                 # sort()로 순서대로 정렬\n",
    "    size = len(nums)\n",
    "    p = size // 2               # 홀수면 n/2 반올림한 값이 중앙값\n",
    "    if size % 2 == 0:          # 짝수일때 n/2번째 ((n/2)+1) \n",
    "        pr = p   \n",
    "        pl = p-1               # 반으로 나눠서 기준의 앞값 혹은 뒷값\n",
    "        mid= float((nums[pl]+nums[pr])/2)    \n",
    "    else:                               # 리스트의 개수가 홀수일때\n",
    "        mid = nums[p]\n",
    "    return mid\n",
    "\n",
    "print('X :', X)\n",
    "median(X) "
   ]
  },
  {
   "cell_type": "markdown",
   "metadata": {},
   "source": [
    "### 표준편차와 평균 "
   ]
  },
  {
   "cell_type": "code",
   "execution_count": null,
   "metadata": {},
   "outputs": [],
   "source": []
  }
 ],
 "metadata": {
  "kernelspec": {
   "display_name": "aiffel",
   "language": "python",
   "name": "aiffel"
  },
  "language_info": {
   "codemirror_mode": {
    "name": "ipython",
    "version": 3
   },
   "file_extension": ".py",
   "mimetype": "text/x-python",
   "name": "python",
   "nbconvert_exporter": "python",
   "pygments_lexer": "ipython3",
   "version": "3.7.9"
  }
 },
 "nbformat": 4,
 "nbformat_minor": 4
}
